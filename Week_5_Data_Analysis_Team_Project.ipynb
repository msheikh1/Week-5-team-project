{
  "nbformat": 4,
  "nbformat_minor": 0,
  "metadata": {
    "colab": {
      "name": "Week_5_Data_Analysis_Team_Project",
      "provenance": [],
      "authorship_tag": "ABX9TyOo7XrURXhBRC2OdcvaDzLz",
      "include_colab_link": true
    },
    "kernelspec": {
      "name": "python3",
      "display_name": "Python 3"
    },
    "language_info": {
      "name": "python"
    }
  },
  "cells": [
    {
      "cell_type": "markdown",
      "metadata": {
        "id": "view-in-github",
        "colab_type": "text"
      },
      "source": [
        "<a href=\"https://colab.research.google.com/github/msheikh1/Week-5-team-project/blob/main/Week_5_Data_Analysis_Team_Project.ipynb\" target=\"_parent\"><img src=\"https://colab.research.google.com/assets/colab-badge.svg\" alt=\"Open In Colab\"/></a>"
      ]
    },
    {
      "cell_type": "markdown",
      "metadata": {
        "id": "NG6la-gQBxo7"
      },
      "source": [
        "#Data analysis for salaries in san francisco"
      ]
    },
    {
      "cell_type": "markdown",
      "metadata": {
        "id": "-8jDNKBxCVJ7"
      },
      "source": [
        "##Importing libraries and dataset"
      ]
    },
    {
      "cell_type": "code",
      "metadata": {
        "id": "dadSDz7kBi4U"
      },
      "source": [
        "#Importing our libraries pandas and numpy\n",
        "import pandas as pd\n",
        "\n",
        "import numpy as np\n"
      ],
      "execution_count": 57,
      "outputs": []
    },
    {
      "cell_type": "code",
      "metadata": {
        "colab": {
          "base_uri": "https://localhost:8080/",
          "height": 314
        },
        "id": "qsXmdCqgCi8h",
        "outputId": "81bd5c2a-2650-46ad-988f-4d009e66f85f"
      },
      "source": [
        "#Importing our csv file\n",
        "df = pd.read_csv(\"SF_Salary.csv\")\n",
        "#Getting a preview with 3 rows\n",
        "df.head(3)\n",
        "\n"
      ],
      "execution_count": 58,
      "outputs": [
        {
          "output_type": "execute_result",
          "data": {
            "text/html": [
              "<div>\n",
              "<style scoped>\n",
              "    .dataframe tbody tr th:only-of-type {\n",
              "        vertical-align: middle;\n",
              "    }\n",
              "\n",
              "    .dataframe tbody tr th {\n",
              "        vertical-align: top;\n",
              "    }\n",
              "\n",
              "    .dataframe thead th {\n",
              "        text-align: right;\n",
              "    }\n",
              "</style>\n",
              "<table border=\"1\" class=\"dataframe\">\n",
              "  <thead>\n",
              "    <tr style=\"text-align: right;\">\n",
              "      <th></th>\n",
              "      <th>Unnamed: 0</th>\n",
              "      <th>EmployeeName</th>\n",
              "      <th>JobTitle</th>\n",
              "      <th>BasePay</th>\n",
              "      <th>OvertimePay</th>\n",
              "      <th>OtherPay</th>\n",
              "      <th>Benefits</th>\n",
              "      <th>TotalPay</th>\n",
              "      <th>TotalPayBenefits</th>\n",
              "      <th>Year</th>\n",
              "      <th>Agency</th>\n",
              "      <th>Gender</th>\n",
              "      <th>Pay</th>\n",
              "    </tr>\n",
              "  </thead>\n",
              "  <tbody>\n",
              "    <tr>\n",
              "      <th>0</th>\n",
              "      <td>0</td>\n",
              "      <td>nathaniel ford</td>\n",
              "      <td>general manager-metropolitan transit authority</td>\n",
              "      <td>167411.18</td>\n",
              "      <td>0.00</td>\n",
              "      <td>400184.25</td>\n",
              "      <td>0.0</td>\n",
              "      <td>567595.43</td>\n",
              "      <td>567595.43</td>\n",
              "      <td>2011</td>\n",
              "      <td>San Francisco</td>\n",
              "      <td>m</td>\n",
              "      <td>567595.43</td>\n",
              "    </tr>\n",
              "    <tr>\n",
              "      <th>1</th>\n",
              "      <td>1</td>\n",
              "      <td>gary jimenez</td>\n",
              "      <td>captain iii (police department)</td>\n",
              "      <td>155966.02</td>\n",
              "      <td>245131.88</td>\n",
              "      <td>137811.38</td>\n",
              "      <td>0.0</td>\n",
              "      <td>538909.28</td>\n",
              "      <td>538909.28</td>\n",
              "      <td>2011</td>\n",
              "      <td>San Francisco</td>\n",
              "      <td>m</td>\n",
              "      <td>538909.28</td>\n",
              "    </tr>\n",
              "    <tr>\n",
              "      <th>2</th>\n",
              "      <td>2</td>\n",
              "      <td>albert pardini</td>\n",
              "      <td>captain iii (police department)</td>\n",
              "      <td>212739.13</td>\n",
              "      <td>106088.18</td>\n",
              "      <td>16452.60</td>\n",
              "      <td>0.0</td>\n",
              "      <td>335279.91</td>\n",
              "      <td>335279.91</td>\n",
              "      <td>2011</td>\n",
              "      <td>San Francisco</td>\n",
              "      <td>m</td>\n",
              "      <td>335279.91</td>\n",
              "    </tr>\n",
              "  </tbody>\n",
              "</table>\n",
              "</div>"
            ],
            "text/plain": [
              "   Unnamed: 0    EmployeeName  ... Gender        Pay\n",
              "0           0  nathaniel ford  ...      m  567595.43\n",
              "1           1    gary jimenez  ...      m  538909.28\n",
              "2           2  albert pardini  ...      m  335279.91\n",
              "\n",
              "[3 rows x 13 columns]"
            ]
          },
          "metadata": {
            "tags": []
          },
          "execution_count": 58
        }
      ]
    },
    {
      "cell_type": "code",
      "metadata": {
        "id": "uhUCToxFE61b"
      },
      "source": [
        "#Deleting the unnamed column\n",
        "del df[\"Unnamed: 0\"]\n"
      ],
      "execution_count": 59,
      "outputs": []
    },
    {
      "cell_type": "markdown",
      "metadata": {
        "id": "aQMq4skrCxev"
      },
      "source": [
        "##Highest paid employees"
      ]
    },
    {
      "cell_type": "code",
      "metadata": {
        "colab": {
          "base_uri": "https://localhost:8080/"
        },
        "id": "nFWLZf1YDKPc",
        "outputId": "d3e85710-4f83-4793-b566-5272a2a244e0"
      },
      "source": [
        "#Highest paid employees with their salaries\n",
        "#In this case we grouped by employee name\n",
        "#We then we got the max pay of the employees to get the name and salary\n",
        "df.groupby(\"EmployeeName\").Pay.max().nlargest(5)"
      ],
      "execution_count": 60,
      "outputs": [
        {
          "output_type": "execute_result",
          "data": {
            "text/plain": [
              "EmployeeName\n",
              "nathaniel ford    567595.43\n",
              "gary jimenez      538909.28\n",
              "david shinn       510732.68\n",
              "amy p             479652.21\n",
              "william j         436224.36\n",
              "Name: Pay, dtype: float64"
            ]
          },
          "metadata": {
            "tags": []
          },
          "execution_count": 60
        }
      ]
    },
    {
      "cell_type": "markdown",
      "metadata": {
        "id": "RoE2A9wzAwyH"
      },
      "source": [
        "###Highest paid females"
      ]
    },
    {
      "cell_type": "code",
      "metadata": {
        "id": "puHVhvsiJvdz",
        "colab": {
          "base_uri": "https://localhost:8080/"
        },
        "outputId": "8ba10a30-5b87-4434-9da3-8c4590b4d52d"
      },
      "source": [
        "#Highest paid females\n",
        "df[(df.Gender ==\"f\")].groupby(\"EmployeeName\").Pay.max().nlargest(5)"
      ],
      "execution_count": 61,
      "outputs": [
        {
          "output_type": "execute_result",
          "data": {
            "text/plain": [
              "EmployeeName\n",
              "amy p                 479652.21\n",
              "joanne m              422353.40\n",
              "ellen g               415767.94\n",
              "joanne hayes-white    386807.48\n",
              "amy hart              376071.59\n",
              "Name: Pay, dtype: float64"
            ]
          },
          "metadata": {
            "tags": []
          },
          "execution_count": 61
        }
      ]
    },
    {
      "cell_type": "markdown",
      "metadata": {
        "id": "xDktD3EIAmmH"
      },
      "source": [
        "###Highest paid males"
      ]
    },
    {
      "cell_type": "code",
      "metadata": {
        "colab": {
          "base_uri": "https://localhost:8080/"
        },
        "id": "ASDbbkgSCM3b",
        "outputId": "355443be-5e13-4445-8052-2d3b2b4f0191"
      },
      "source": [
        "#Highest paid males\n",
        "df[(df.Gender ==\"m\")].groupby(\"EmployeeName\").Pay.max().nlargest(5)\n"
      ],
      "execution_count": 62,
      "outputs": [
        {
          "output_type": "execute_result",
          "data": {
            "text/plain": [
              "EmployeeName\n",
              "nathaniel ford    567595.43\n",
              "gary jimenez      538909.28\n",
              "david shinn       510732.68\n",
              "william j         436224.36\n",
              "gregory p         425815.28\n",
              "Name: Pay, dtype: float64"
            ]
          },
          "metadata": {
            "tags": []
          },
          "execution_count": 62
        }
      ]
    },
    {
      "cell_type": "markdown",
      "metadata": {
        "id": "5itDlgirFRR4"
      },
      "source": [
        "##The mean benefits paid"
      ]
    },
    {
      "cell_type": "code",
      "metadata": {
        "colab": {
          "base_uri": "https://localhost:8080/",
          "height": 35
        },
        "id": "XrQmMa_JFS8k",
        "outputId": "f173aa66-2be4-4703-9f33-279566258b34"
      },
      "source": [
        "#The mean benefits paid\n",
        "#We got the mean for the benefits column using .mean() and assigned it to z\n",
        "#You can then use format then round to round the values to two decimal places\n",
        "z = df[\"Benefits\"].mean()\n",
        "format(round(z,2))"
      ],
      "execution_count": 63,
      "outputs": [
        {
          "output_type": "execute_result",
          "data": {
            "application/vnd.google.colaboratory.intrinsic+json": {
              "type": "string"
            },
            "text/plain": [
              "'18926.87'"
            ]
          },
          "metadata": {
            "tags": []
          },
          "execution_count": 63
        }
      ]
    },
    {
      "cell_type": "markdown",
      "metadata": {
        "id": "qFs6csAGEGcF"
      },
      "source": [
        "###Mean benefits paid for males and females"
      ]
    },
    {
      "cell_type": "code",
      "metadata": {
        "colab": {
          "base_uri": "https://localhost:8080/",
          "height": 108
        },
        "id": "Q33HT_i7EO1r",
        "outputId": "096f728a-a9e3-4f86-e204-5c5412ce7909"
      },
      "source": [
        "#Mean benefits paid for males and females \n",
        "#We can compare the benefits for males and females and the average\n",
        "#We grouped by gender then got the mean for the benefits \n",
        "df.groupby(\"Gender\",as_index=False).Benefits.mean()"
      ],
      "execution_count": 64,
      "outputs": [
        {
          "output_type": "execute_result",
          "data": {
            "text/html": [
              "<div>\n",
              "<style scoped>\n",
              "    .dataframe tbody tr th:only-of-type {\n",
              "        vertical-align: middle;\n",
              "    }\n",
              "\n",
              "    .dataframe tbody tr th {\n",
              "        vertical-align: top;\n",
              "    }\n",
              "\n",
              "    .dataframe thead th {\n",
              "        text-align: right;\n",
              "    }\n",
              "</style>\n",
              "<table border=\"1\" class=\"dataframe\">\n",
              "  <thead>\n",
              "    <tr style=\"text-align: right;\">\n",
              "      <th></th>\n",
              "      <th>Gender</th>\n",
              "      <th>Benefits</th>\n",
              "    </tr>\n",
              "  </thead>\n",
              "  <tbody>\n",
              "    <tr>\n",
              "      <th>0</th>\n",
              "      <td>f</td>\n",
              "      <td>18022.397369</td>\n",
              "    </tr>\n",
              "    <tr>\n",
              "      <th>1</th>\n",
              "      <td>m</td>\n",
              "      <td>20301.137266</td>\n",
              "    </tr>\n",
              "  </tbody>\n",
              "</table>\n",
              "</div>"
            ],
            "text/plain": [
              "  Gender      Benefits\n",
              "0      f  18022.397369\n",
              "1      m  20301.137266"
            ]
          },
          "metadata": {
            "tags": []
          },
          "execution_count": 64
        }
      ]
    },
    {
      "cell_type": "markdown",
      "metadata": {
        "id": "bTPVI6xNGcUM"
      },
      "source": [
        "##Mean base pay"
      ]
    },
    {
      "cell_type": "code",
      "metadata": {
        "colab": {
          "base_uri": "https://localhost:8080/",
          "height": 35
        },
        "id": "8t29iQ4LGgkA",
        "outputId": "f73e7bc0-99c2-4f1a-c5d3-ee15212237f0"
      },
      "source": [
        "#Mean base pay\n",
        "#We got the mean for the base pay then we formatted it\n",
        "x = df[\"BasePay\"].mean()\n",
        "format(round(x,2))"
      ],
      "execution_count": 65,
      "outputs": [
        {
          "output_type": "execute_result",
          "data": {
            "application/vnd.google.colaboratory.intrinsic+json": {
              "type": "string"
            },
            "text/plain": [
              "'66063.72'"
            ]
          },
          "metadata": {
            "tags": []
          },
          "execution_count": 65
        }
      ]
    },
    {
      "cell_type": "markdown",
      "metadata": {
        "id": "AiE68paXC6r9"
      },
      "source": [
        "###Mean base male and female pay"
      ]
    },
    {
      "cell_type": "code",
      "metadata": {
        "colab": {
          "base_uri": "https://localhost:8080/",
          "height": 108
        },
        "id": "4XaH83VhDAAk",
        "outputId": "ca34dead-8c80-480b-d846-4228b22f73c8"
      },
      "source": [
        "#We grouped by gender then got the mean for the base pay\n",
        "df.groupby(\"Gender\",as_index=False).BasePay.mean()\n"
      ],
      "execution_count": 66,
      "outputs": [
        {
          "output_type": "execute_result",
          "data": {
            "text/html": [
              "<div>\n",
              "<style scoped>\n",
              "    .dataframe tbody tr th:only-of-type {\n",
              "        vertical-align: middle;\n",
              "    }\n",
              "\n",
              "    .dataframe tbody tr th {\n",
              "        vertical-align: top;\n",
              "    }\n",
              "\n",
              "    .dataframe thead th {\n",
              "        text-align: right;\n",
              "    }\n",
              "</style>\n",
              "<table border=\"1\" class=\"dataframe\">\n",
              "  <thead>\n",
              "    <tr style=\"text-align: right;\">\n",
              "      <th></th>\n",
              "      <th>Gender</th>\n",
              "      <th>BasePay</th>\n",
              "    </tr>\n",
              "  </thead>\n",
              "  <tbody>\n",
              "    <tr>\n",
              "      <th>0</th>\n",
              "      <td>f</td>\n",
              "      <td>63052.231127</td>\n",
              "    </tr>\n",
              "    <tr>\n",
              "      <th>1</th>\n",
              "      <td>m</td>\n",
              "      <td>71740.294580</td>\n",
              "    </tr>\n",
              "  </tbody>\n",
              "</table>\n",
              "</div>"
            ],
            "text/plain": [
              "  Gender       BasePay\n",
              "0      f  63052.231127\n",
              "1      m  71740.294580"
            ]
          },
          "metadata": {
            "tags": []
          },
          "execution_count": 66
        }
      ]
    },
    {
      "cell_type": "markdown",
      "metadata": {
        "id": "fE0PXs5tGrYX"
      },
      "source": [
        "##Average pay per year for all employees"
      ]
    },
    {
      "cell_type": "code",
      "metadata": {
        "id": "bBxLT6gaGtbV",
        "colab": {
          "base_uri": "https://localhost:8080/",
          "height": 168
        },
        "outputId": "7c12c90f-aea5-43c3-a703-c28954d615b9"
      },
      "source": [
        "#Average pay per year for all employees\n",
        "#We grouped by year then we got the mean pay for each year\n",
        "#In this case we used as_index false just to display in table form as opposed to normal\n",
        "df.groupby([\"Year\"],as_index=False).Pay.mean()\n",
        "\n",
        "\n"
      ],
      "execution_count": 67,
      "outputs": [
        {
          "output_type": "execute_result",
          "data": {
            "text/html": [
              "<div>\n",
              "<style scoped>\n",
              "    .dataframe tbody tr th:only-of-type {\n",
              "        vertical-align: middle;\n",
              "    }\n",
              "\n",
              "    .dataframe tbody tr th {\n",
              "        vertical-align: top;\n",
              "    }\n",
              "\n",
              "    .dataframe thead th {\n",
              "        text-align: right;\n",
              "    }\n",
              "</style>\n",
              "<table border=\"1\" class=\"dataframe\">\n",
              "  <thead>\n",
              "    <tr style=\"text-align: right;\">\n",
              "      <th></th>\n",
              "      <th>Year</th>\n",
              "      <th>Pay</th>\n",
              "    </tr>\n",
              "  </thead>\n",
              "  <tbody>\n",
              "    <tr>\n",
              "      <th>0</th>\n",
              "      <td>2011</td>\n",
              "      <td>71744.103871</td>\n",
              "    </tr>\n",
              "    <tr>\n",
              "      <th>1</th>\n",
              "      <td>2012</td>\n",
              "      <td>100583.308465</td>\n",
              "    </tr>\n",
              "    <tr>\n",
              "      <th>2</th>\n",
              "      <td>2013</td>\n",
              "      <td>101452.870647</td>\n",
              "    </tr>\n",
              "    <tr>\n",
              "      <th>3</th>\n",
              "      <td>2014</td>\n",
              "      <td>100270.347720</td>\n",
              "    </tr>\n",
              "  </tbody>\n",
              "</table>\n",
              "</div>"
            ],
            "text/plain": [
              "   Year            Pay\n",
              "0  2011   71744.103871\n",
              "1  2012  100583.308465\n",
              "2  2013  101452.870647\n",
              "3  2014  100270.347720"
            ]
          },
          "metadata": {
            "tags": []
          },
          "execution_count": 67
        }
      ]
    },
    {
      "cell_type": "markdown",
      "metadata": {
        "id": "PrmupNn4H2pX"
      },
      "source": [
        "###Average pay per year for males"
      ]
    },
    {
      "cell_type": "code",
      "metadata": {
        "colab": {
          "base_uri": "https://localhost:8080/",
          "height": 168
        },
        "id": "3rUpeJf5HdJX",
        "outputId": "9c26c41e-eefb-4967-ec6a-3fffe02d5e4b"
      },
      "source": [
        "#Average pay per year for males\n",
        "#We filtered to get only for males\n",
        "#We grouped by year then we got the mean pay for each year\n",
        "\n",
        "df[(df.Gender ==\"m\")].groupby([\"Year\"],as_index=False).Pay.mean()"
      ],
      "execution_count": 68,
      "outputs": [
        {
          "output_type": "execute_result",
          "data": {
            "text/html": [
              "<div>\n",
              "<style scoped>\n",
              "    .dataframe tbody tr th:only-of-type {\n",
              "        vertical-align: middle;\n",
              "    }\n",
              "\n",
              "    .dataframe tbody tr th {\n",
              "        vertical-align: top;\n",
              "    }\n",
              "\n",
              "    .dataframe thead th {\n",
              "        text-align: right;\n",
              "    }\n",
              "</style>\n",
              "<table border=\"1\" class=\"dataframe\">\n",
              "  <thead>\n",
              "    <tr style=\"text-align: right;\">\n",
              "      <th></th>\n",
              "      <th>Year</th>\n",
              "      <th>Pay</th>\n",
              "    </tr>\n",
              "  </thead>\n",
              "  <tbody>\n",
              "    <tr>\n",
              "      <th>0</th>\n",
              "      <td>2011</td>\n",
              "      <td>81231.989677</td>\n",
              "    </tr>\n",
              "    <tr>\n",
              "      <th>1</th>\n",
              "      <td>2012</td>\n",
              "      <td>111840.148792</td>\n",
              "    </tr>\n",
              "    <tr>\n",
              "      <th>2</th>\n",
              "      <td>2013</td>\n",
              "      <td>112517.000832</td>\n",
              "    </tr>\n",
              "    <tr>\n",
              "      <th>3</th>\n",
              "      <td>2014</td>\n",
              "      <td>111040.083618</td>\n",
              "    </tr>\n",
              "  </tbody>\n",
              "</table>\n",
              "</div>"
            ],
            "text/plain": [
              "   Year            Pay\n",
              "0  2011   81231.989677\n",
              "1  2012  111840.148792\n",
              "2  2013  112517.000832\n",
              "3  2014  111040.083618"
            ]
          },
          "metadata": {
            "tags": []
          },
          "execution_count": 68
        }
      ]
    },
    {
      "cell_type": "markdown",
      "metadata": {
        "id": "kTGbR_6BH9Ht"
      },
      "source": [
        "###Average pay per year for females"
      ]
    },
    {
      "cell_type": "code",
      "metadata": {
        "colab": {
          "base_uri": "https://localhost:8080/",
          "height": 168
        },
        "id": "YSXIrDi6HtLD",
        "outputId": "dfe219a8-2533-4da2-d9b1-ae3335c2077c"
      },
      "source": [
        "#Average pay per year for males\n",
        "#We filtered to get only for males\n",
        "#We grouped by year then we got the mean pay for each year\n",
        "\n",
        "df[(df.Gender ==\"f\")].groupby([\"Year\"],as_index=False).Pay.mean()"
      ],
      "execution_count": 69,
      "outputs": [
        {
          "output_type": "execute_result",
          "data": {
            "text/html": [
              "<div>\n",
              "<style scoped>\n",
              "    .dataframe tbody tr th:only-of-type {\n",
              "        vertical-align: middle;\n",
              "    }\n",
              "\n",
              "    .dataframe tbody tr th {\n",
              "        vertical-align: top;\n",
              "    }\n",
              "\n",
              "    .dataframe thead th {\n",
              "        text-align: right;\n",
              "    }\n",
              "</style>\n",
              "<table border=\"1\" class=\"dataframe\">\n",
              "  <thead>\n",
              "    <tr style=\"text-align: right;\">\n",
              "      <th></th>\n",
              "      <th>Year</th>\n",
              "      <th>Pay</th>\n",
              "    </tr>\n",
              "  </thead>\n",
              "  <tbody>\n",
              "    <tr>\n",
              "      <th>0</th>\n",
              "      <td>2011</td>\n",
              "      <td>64448.267951</td>\n",
              "    </tr>\n",
              "    <tr>\n",
              "      <th>1</th>\n",
              "      <td>2012</td>\n",
              "      <td>92325.481812</td>\n",
              "    </tr>\n",
              "    <tr>\n",
              "      <th>2</th>\n",
              "      <td>2013</td>\n",
              "      <td>94429.594821</td>\n",
              "    </tr>\n",
              "    <tr>\n",
              "      <th>3</th>\n",
              "      <td>2014</td>\n",
              "      <td>93700.354304</td>\n",
              "    </tr>\n",
              "  </tbody>\n",
              "</table>\n",
              "</div>"
            ],
            "text/plain": [
              "   Year           Pay\n",
              "0  2011  64448.267951\n",
              "1  2012  92325.481812\n",
              "2  2013  94429.594821\n",
              "3  2014  93700.354304"
            ]
          },
          "metadata": {
            "tags": []
          },
          "execution_count": 69
        }
      ]
    },
    {
      "cell_type": "markdown",
      "metadata": {
        "id": "uSpnbrZjIMgP"
      },
      "source": [
        "##Average female and male pay"
      ]
    },
    {
      "cell_type": "code",
      "metadata": {
        "colab": {
          "base_uri": "https://localhost:8080/",
          "height": 108
        },
        "id": "63TQ8oq8IQO9",
        "outputId": "6ee662ec-21e0-42c2-908a-ca55e4cc6963"
      },
      "source": [
        "#Average male pay\n",
        "#We grouped by gender then got the mean pay\n",
        "df.groupby([\"Gender\"],as_index=False).Pay.mean()"
      ],
      "execution_count": 70,
      "outputs": [
        {
          "output_type": "execute_result",
          "data": {
            "text/html": [
              "<div>\n",
              "<style scoped>\n",
              "    .dataframe tbody tr th:only-of-type {\n",
              "        vertical-align: middle;\n",
              "    }\n",
              "\n",
              "    .dataframe tbody tr th {\n",
              "        vertical-align: top;\n",
              "    }\n",
              "\n",
              "    .dataframe thead th {\n",
              "        text-align: right;\n",
              "    }\n",
              "</style>\n",
              "<table border=\"1\" class=\"dataframe\">\n",
              "  <thead>\n",
              "    <tr style=\"text-align: right;\">\n",
              "      <th></th>\n",
              "      <th>Gender</th>\n",
              "      <th>Pay</th>\n",
              "    </tr>\n",
              "  </thead>\n",
              "  <tbody>\n",
              "    <tr>\n",
              "      <th>0</th>\n",
              "      <td>f</td>\n",
              "      <td>86475.670283</td>\n",
              "    </tr>\n",
              "    <tr>\n",
              "      <th>1</th>\n",
              "      <td>m</td>\n",
              "      <td>104254.643859</td>\n",
              "    </tr>\n",
              "  </tbody>\n",
              "</table>\n",
              "</div>"
            ],
            "text/plain": [
              "  Gender            Pay\n",
              "0      f   86475.670283\n",
              "1      m  104254.643859"
            ]
          },
          "metadata": {
            "tags": []
          },
          "execution_count": 70
        }
      ]
    },
    {
      "cell_type": "code",
      "metadata": {
        "colab": {
          "base_uri": "https://localhost:8080/"
        },
        "id": "MdYkRibUXVQo",
        "outputId": "88b268ca-a8b0-4952-a143-959a506fde9f"
      },
      "source": [
        "#We got the average male and female pay and assigned them a value\n",
        "#We then got the average pay and assigned it a value\n",
        "#We got the difference between the average pay and the average male and female pay\n",
        "#We then made a comparison\n",
        "#In the data report more comparisons are made\n",
        "x = df[(df.Gender == \"m\")].Pay.mean()\n",
        "y = df[(df.Gender == \"f\")].Pay.mean()\n",
        "z = df.Pay.mean()\n",
        "print(\"Men get \"+str(x-z)+\" more than the mean\")\n",
        "print(\"Women get \"+str(z-y)+\" less than the mean\")\n"
      ],
      "execution_count": 71,
      "outputs": [
        {
          "output_type": "stream",
          "text": [
            "Men get 10547.873606587047 more than the mean\n",
            "Women get 7231.099969851784 less than the mean\n"
          ],
          "name": "stdout"
        }
      ]
    },
    {
      "cell_type": "markdown",
      "metadata": {
        "id": "gcxQ0y6nLLKO"
      },
      "source": [
        "##Top 5 highest earning jobs"
      ]
    },
    {
      "cell_type": "code",
      "metadata": {
        "colab": {
          "base_uri": "https://localhost:8080/"
        },
        "id": "-MJDBtwKNIWj",
        "outputId": "8c5a955c-098d-49c3-dce0-57271fcb9c47"
      },
      "source": [
        "#Top 5 earning jobs\n",
        "#We grouped by job title. Then we got the mean pay\n",
        "#We used nlargest then narrowed it to the top 5 \n",
        "\n",
        "df.groupby(\"JobTitle\").Pay.mean().nlargest(5)\n"
      ],
      "execution_count": 72,
      "outputs": [
        {
          "output_type": "execute_result",
          "data": {
            "text/plain": [
              "JobTitle\n",
              "chief investment officer                          436224.360000\n",
              "chief, fire department                            408865.326667\n",
              "general manager-metropolitan transit authority    399211.275000\n",
              "gen mgr, public trnsp dept                        380696.440000\n",
              "chief of police                                   375797.347500\n",
              "Name: Pay, dtype: float64"
            ]
          },
          "metadata": {
            "tags": []
          },
          "execution_count": 72
        }
      ]
    },
    {
      "cell_type": "markdown",
      "metadata": {
        "id": "mCpdPus25RTp"
      },
      "source": [
        "###Top 5 earning jobs for men"
      ]
    },
    {
      "cell_type": "code",
      "metadata": {
        "colab": {
          "base_uri": "https://localhost:8080/"
        },
        "id": "ODS-eTehLb0k",
        "outputId": "7679bdb4-2008-4abd-9160-4d069d6098f0"
      },
      "source": [
        "#Top 5 highest earning jobs for males\n",
        "#We filtered gender to males\n",
        "#We grouped by jobtitle then got the mean pay for each jobtitle\n",
        "#We used nlargest and narrowed it to the top 5\n",
        "\n",
        "df[(df.Gender==\"m\")].groupby(\"JobTitle\").Pay.mean().nlargest(5)"
      ],
      "execution_count": 73,
      "outputs": [
        {
          "output_type": "execute_result",
          "data": {
            "text/plain": [
              "JobTitle\n",
              "chief investment officer                          436224.3600\n",
              "general manager-metropolitan transit authority    399211.2750\n",
              "gen mgr, public trnsp dept                        380696.4400\n",
              "chief of police                                   375797.3475\n",
              "dep chf of dept (fire dept)                       362562.2200\n",
              "Name: Pay, dtype: float64"
            ]
          },
          "metadata": {
            "tags": []
          },
          "execution_count": 73
        }
      ]
    },
    {
      "cell_type": "markdown",
      "metadata": {
        "id": "omZEjH3g5Zjg"
      },
      "source": [
        "###Top 5 earning jobs for females"
      ]
    },
    {
      "cell_type": "code",
      "metadata": {
        "colab": {
          "base_uri": "https://localhost:8080/"
        },
        "id": "9-hZmVET5dat",
        "outputId": "6e094d0b-7f51-4028-969a-eb40fae93b0a"
      },
      "source": [
        "#Top 5 highest earning jobs for females\n",
        "#We filtered gender to females\n",
        "#We grouped by jobtitle then got the mean pay for each jobtitle\n",
        "#We used nlargest and narrowed it to the top 5\n",
        "\n",
        "df[(df.Gender==\"f\")].groupby(\"JobTitle\").Pay.mean().nlargest(5)"
      ],
      "execution_count": 74,
      "outputs": [
        {
          "output_type": "execute_result",
          "data": {
            "text/plain": [
              "JobTitle\n",
              "chief, fire department      408865.326667\n",
              "assistant deputy chief 2    362306.210000\n",
              "asst med examiner           352683.254286\n",
              "dept head v                 349221.598182\n",
              "adm, sfgh medical center    347079.706667\n",
              "Name: Pay, dtype: float64"
            ]
          },
          "metadata": {
            "tags": []
          },
          "execution_count": 74
        }
      ]
    },
    {
      "cell_type": "markdown",
      "metadata": {
        "id": "jbXYlbQ0Nry8"
      },
      "source": [
        "##Top 5 most popular jobs"
      ]
    },
    {
      "cell_type": "code",
      "metadata": {
        "colab": {
          "base_uri": "https://localhost:8080/"
        },
        "id": "6ZR19toGNxuG",
        "outputId": "c8eb8c6b-3ed6-4755-e974-61ccd53515ab"
      },
      "source": [
        "#Top 5 most popular jobs\n",
        "#We got the job title then used value count to count the values\n",
        "#Then used nlargest to get the top 5\n",
        "df.JobTitle.value_counts().nlargest(5)\n",
        "\n"
      ],
      "execution_count": 75,
      "outputs": [
        {
          "output_type": "execute_result",
          "data": {
            "text/plain": [
              "transit operator    9424\n",
              "special nurse       5790\n",
              "registered nurse    4955\n",
              "custodian           3214\n",
              "firefighter         3153\n",
              "Name: JobTitle, dtype: int64"
            ]
          },
          "metadata": {
            "tags": []
          },
          "execution_count": 75
        }
      ]
    },
    {
      "cell_type": "markdown",
      "metadata": {
        "id": "UMgFELDj6u9H"
      },
      "source": [
        "###Top 5 most popular male jobs"
      ]
    },
    {
      "cell_type": "code",
      "metadata": {
        "colab": {
          "base_uri": "https://localhost:8080/"
        },
        "id": "S6e1zBYcQmkC",
        "outputId": "4efa6e57-fd22-46e6-9d01-44c20ce78bb1"
      },
      "source": [
        "#Top 5 most popular male jobs\n",
        "#We filtered gender to male\n",
        "#We got the job title column then used value count to count the number of values which are equal\n",
        "#We used nlargest to get the top 5 \n",
        "\n",
        "df[(df.Gender==\"m\")].JobTitle.value_counts().nlargest(5)"
      ],
      "execution_count": 76,
      "outputs": [
        {
          "output_type": "execute_result",
          "data": {
            "text/plain": [
              "transit operator                5591\n",
              "firefighter                     2346\n",
              "deputy sheriff                  1888\n",
              "police officer 3                1821\n",
              "public svc aide-public works    1262\n",
              "Name: JobTitle, dtype: int64"
            ]
          },
          "metadata": {
            "tags": []
          },
          "execution_count": 76
        }
      ]
    },
    {
      "cell_type": "markdown",
      "metadata": {
        "id": "60svjXkd63c3"
      },
      "source": [
        "###Top 5 most popular female jobs"
      ]
    },
    {
      "cell_type": "code",
      "metadata": {
        "colab": {
          "base_uri": "https://localhost:8080/"
        },
        "id": "142ABBiyRDxC",
        "outputId": "4de2dacb-c26e-4b09-a3ae-a355b15afa41"
      },
      "source": [
        "#Top 5 most popular female jobs\n",
        "#We filtered gender to male\n",
        "#We got the job title column then used value count to count the number of values which are equal\n",
        "#We used nlargest to get the top 5 \n",
        "\n",
        "df[(df.Gender==\"f\")].JobTitle.value_counts().nlargest(5)"
      ],
      "execution_count": 77,
      "outputs": [
        {
          "output_type": "execute_result",
          "data": {
            "text/plain": [
              "special nurse                3108\n",
              "registered nurse             2592\n",
              "transit operator             1876\n",
              "recreation leader            1041\n",
              "attorney (civil/criminal)     755\n",
              "Name: JobTitle, dtype: int64"
            ]
          },
          "metadata": {
            "tags": []
          },
          "execution_count": 77
        }
      ]
    },
    {
      "cell_type": "markdown",
      "metadata": {
        "id": "3okcg7TUVxF2"
      },
      "source": [
        "##Comparison between average male pay and average female pay."
      ]
    },
    {
      "cell_type": "code",
      "metadata": {
        "colab": {
          "base_uri": "https://localhost:8080/"
        },
        "id": "T1YLHuepV5OB",
        "outputId": "5053c270-1850-40c7-8bf6-7f5af2418dca"
      },
      "source": [
        "#Comparison between average male pay and average female pay.\n",
        "#The female earnings as compared to male earnings in percentage\n",
        "\n",
        "#We filtered gender to male then got the mean pay and assigned it to x\n",
        "x = df[(df.Gender == \"m\")].Pay.mean()\n",
        "#We filtered gender to female then got the mean pay and assigned to y\n",
        "y = df[(df.Gender == \"f\")].Pay.mean()\n",
        "\n",
        "(y/x)*100"
      ],
      "execution_count": 78,
      "outputs": [
        {
          "output_type": "execute_result",
          "data": {
            "text/plain": [
              "82.94658835490928"
            ]
          },
          "metadata": {
            "tags": []
          },
          "execution_count": 78
        }
      ]
    },
    {
      "cell_type": "markdown",
      "metadata": {
        "id": "2EoO1di9Y3Gu"
      },
      "source": [
        "##People with salaries above average"
      ]
    },
    {
      "cell_type": "code",
      "metadata": {
        "id": "IoH23d7re8xs",
        "colab": {
          "base_uri": "https://localhost:8080/"
        },
        "outputId": "a8b872b4-a6ac-4fb0-e21d-bed7c9865873"
      },
      "source": [
        "#The total number of people with salaries above average\n",
        "#We got the people with pay above mean pay\n",
        "#In this case we used length to count the cells\n",
        "len(df[df.Pay > df.Pay.mean()])"
      ],
      "execution_count": 79,
      "outputs": [
        {
          "output_type": "execute_result",
          "data": {
            "text/plain": [
              "72991"
            ]
          },
          "metadata": {
            "tags": []
          },
          "execution_count": 79
        }
      ]
    },
    {
      "cell_type": "markdown",
      "metadata": {
        "id": "_8UZUTNx86NJ"
      },
      "source": [
        "###Males with salary above average"
      ]
    },
    {
      "cell_type": "code",
      "metadata": {
        "id": "XwvSfWhJez5Q",
        "colab": {
          "base_uri": "https://localhost:8080/"
        },
        "outputId": "db5f36c7-ef96-4ef3-a836-beac2546366c"
      },
      "source": [
        "#Number of males whose salary is above average\n",
        "#We got the people with pay above mean pay \n",
        "#We used the ampersand sign to also get people whose gender is male\n",
        "#We used length to count the cells\n",
        "len(df[(df.Pay > df.Pay.mean()) & (df.Gender=='m')])"
      ],
      "execution_count": 80,
      "outputs": [
        {
          "output_type": "execute_result",
          "data": {
            "text/plain": [
              "38667"
            ]
          },
          "metadata": {
            "tags": []
          },
          "execution_count": 80
        }
      ]
    },
    {
      "cell_type": "markdown",
      "metadata": {
        "id": "pZxAEWE-8y8f"
      },
      "source": [
        "###Females with salary above average"
      ]
    },
    {
      "cell_type": "code",
      "metadata": {
        "colab": {
          "base_uri": "https://localhost:8080/"
        },
        "id": "Iblpj_8EZHYV",
        "outputId": "1a36af8e-a34b-4f2e-a7f7-a3b387db038e"
      },
      "source": [
        "#Number of females whose salary is above average\n",
        "#We got the people with pay above mean pay \n",
        "#We used the ampersand sign to also get people whose gender is female\n",
        "#We used length to count the cells\n",
        "len(df[(df.Pay > df.Pay.mean()) & (df.Gender=='f')])\n"
      ],
      "execution_count": 81,
      "outputs": [
        {
          "output_type": "execute_result",
          "data": {
            "text/plain": [
              "22438"
            ]
          },
          "metadata": {
            "tags": []
          },
          "execution_count": 81
        }
      ]
    }
  ]
}