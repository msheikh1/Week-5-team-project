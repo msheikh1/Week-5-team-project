{
  "nbformat": 4,
  "nbformat_minor": 0,
  "metadata": {
    "colab": {
      "name": "Week_5_San_Francisco_Salary_Team_Project",
      "provenance": [],
      "collapsed_sections": [
        "EwGZcSZoSryX"
      ],
      "toc_visible": true,
      "include_colab_link": true
    },
    "kernelspec": {
      "name": "python3",
      "display_name": "Python 3"
    },
    "language_info": {
      "name": "python"
    }
  },
  "cells": [
    {
      "cell_type": "markdown",
      "metadata": {
        "id": "view-in-github",
        "colab_type": "text"
      },
      "source": [
        "<a href=\"https://colab.research.google.com/github/msheikh1/Week-5-team-project/blob/main/Week_5_San_Francisco_Salary_Team_Project.ipynb\" target=\"_parent\"><img src=\"https://colab.research.google.com/assets/colab-badge.svg\" alt=\"Open In Colab\"/></a>"
      ]
    },
    {
      "cell_type": "markdown",
      "metadata": {
        "id": "qVqV9aPkNqBv"
      },
      "source": [
        "# **Data Science Prep Final Week Project**\n",
        "Team Members:\n",
        "* Masud sheikh\n",
        "* Halima I Hussein\n",
        "* Joan Mwangi\n",
        "* Nathan Njonge\n",
        "* Sammy Mwangi"
      ]
    },
    {
      "cell_type": "markdown",
      "metadata": {
        "id": "RJyoDMVLO3XF"
      },
      "source": [
        "## **San Francisco Salary Analysis for Years 2011 to 2014**"
      ]
    },
    {
      "cell_type": "markdown",
      "metadata": {
        "id": "254v7VL5TFlO"
      },
      "source": [
        "###**Problem Statement**\n",
        "\n",
        "Irrespective of professional experience and educational background, gender pay disparity is a problem in the public sector. Women have to overcome salary barriers, such as agency segregation, position segregation. Recent studies have indicated that human capital variables, people skills, discrimination, and policies all contribute to gender pay disparity in America’s workforce. However, there are limited studies that focus on the indirect factors that also contribute to gender pay inequality.\n",
        "The purpose of this study was to investigate the relationship between wages and job responsibility as well as gender (as defined by an employee’s job title) for all employees working in the state of San Francisco on an annual basis from 2011 to 2014. The data source for this study came from Kaggle website. [Link](https://www.kaggle.com/ronaldtroncoso20/sf-salaries-extended/download) \n",
        " \n"
      ]
    },
    {
      "cell_type": "markdown",
      "metadata": {
        "id": "eU8NZR0jUPk0"
      },
      "source": [
        "###**Objectives**\n",
        "\n",
        "Our objectives were:\n",
        "* To identify how salaries changed over time between different groups of people\n",
        "* To identify how far the male salary and female salary deviate from mean salary\n",
        "* Identify how base pay, overtime pay, and benefits are allocated between different groups\n",
        "* Identify any evidence of pay discrimination based on gender in this dataset\n",
        "* Identify the difference in  wages and gender and an employee’s type of job"
      ]
    },
    {
      "cell_type": "markdown",
      "metadata": {
        "id": "2ybiDITsWxQS"
      },
      "source": [
        "#Data Preparation"
      ]
    },
    {
      "cell_type": "markdown",
      "metadata": {
        "id": "sxeDWtejPhXS"
      },
      "source": [
        "##Importing Libraries"
      ]
    },
    {
      "cell_type": "code",
      "metadata": {
        "id": "o7EyXRNcP9Id"
      },
      "source": [
        "import pandas as pd\n",
        "import numpy as np"
      ],
      "execution_count": null,
      "outputs": []
    },
    {
      "cell_type": "markdown",
      "metadata": {
        "id": "w2wZwztEQGY5"
      },
      "source": [
        "##Importing the dataset"
      ]
    },
    {
      "cell_type": "code",
      "metadata": {
        "id": "8p3V2tSQQRJh",
        "colab": {
          "base_uri": "https://localhost:8080/"
        },
        "outputId": "a93ee966-f146-420c-af77-dce253286f07"
      },
      "source": [
        "# We have downloaded the dataset from the below url\n",
        "#url = 'https://www.kaggle.com/ronaldtroncoso20/sf-salaries-extended/download'\n",
        "#\n",
        "df = pd.read_csv('SF_salary_data_gender.csv')"
      ],
      "execution_count": null,
      "outputs": [
        {
          "output_type": "stream",
          "text": [
            "/usr/local/lib/python3.7/dist-packages/IPython/core/interactiveshell.py:2718: DtypeWarning: Columns (4,5,6,7,13) have mixed types.Specify dtype option on import or set low_memory=False.\n",
            "  interactivity=interactivity, compiler=compiler, result=result)\n"
          ],
          "name": "stderr"
        }
      ]
    },
    {
      "cell_type": "markdown",
      "metadata": {
        "id": "n2pTjgiPQXEq"
      },
      "source": [
        "##Previewing the dataset"
      ]
    },
    {
      "cell_type": "code",
      "metadata": {
        "id": "Mns354b4QdcB",
        "colab": {
          "base_uri": "https://localhost:8080/"
        },
        "outputId": "396c84b5-3cf3-49fc-9a3a-b15aa8deb1e4"
      },
      "source": [
        "# dataframe info\n",
        "df.info()"
      ],
      "execution_count": null,
      "outputs": [
        {
          "output_type": "stream",
          "text": [
            "<class 'pandas.core.frame.DataFrame'>\n",
            "RangeIndex: 148654 entries, 0 to 148653\n",
            "Data columns (total 15 columns):\n",
            " #   Column            Non-Null Count   Dtype  \n",
            "---  ------            --------------   -----  \n",
            " 0   Unnamed: 0        148654 non-null  int64  \n",
            " 1   Id                148654 non-null  int64  \n",
            " 2   Employee Name     148653 non-null  object \n",
            " 3   JobTitle          148654 non-null  object \n",
            " 4   BasePay           148049 non-null  object \n",
            " 5   OvertimePay       148654 non-null  object \n",
            " 6   OtherPay          148654 non-null  object \n",
            " 7   Benefits          112495 non-null  object \n",
            " 8   TotalPay          148654 non-null  float64\n",
            " 9   TotalPayBenefits  148654 non-null  float64\n",
            " 10  Year              148654 non-null  int64  \n",
            " 11  Notes             0 non-null       float64\n",
            " 12  Agency            148654 non-null  object \n",
            " 13  Status            38119 non-null   object \n",
            " 14  gender            119169 non-null  object \n",
            "dtypes: float64(3), int64(3), object(9)\n",
            "memory usage: 17.0+ MB\n"
          ],
          "name": "stdout"
        }
      ]
    },
    {
      "cell_type": "code",
      "metadata": {
        "id": "yGILfdJwQhZb",
        "colab": {
          "base_uri": "https://localhost:8080/",
          "height": 835
        },
        "outputId": "3117d383-85da-45ea-de41-c9d52c602c6e"
      },
      "source": [
        "#Previewing the first 10 rows of the dataset\n",
        "df.head(10)"
      ],
      "execution_count": null,
      "outputs": [
        {
          "output_type": "execute_result",
          "data": {
            "text/html": [
              "<div>\n",
              "<style scoped>\n",
              "    .dataframe tbody tr th:only-of-type {\n",
              "        vertical-align: middle;\n",
              "    }\n",
              "\n",
              "    .dataframe tbody tr th {\n",
              "        vertical-align: top;\n",
              "    }\n",
              "\n",
              "    .dataframe thead th {\n",
              "        text-align: right;\n",
              "    }\n",
              "</style>\n",
              "<table border=\"1\" class=\"dataframe\">\n",
              "  <thead>\n",
              "    <tr style=\"text-align: right;\">\n",
              "      <th></th>\n",
              "      <th>Unnamed: 0</th>\n",
              "      <th>Id</th>\n",
              "      <th>Employee Name</th>\n",
              "      <th>JobTitle</th>\n",
              "      <th>BasePay</th>\n",
              "      <th>OvertimePay</th>\n",
              "      <th>OtherPay</th>\n",
              "      <th>Benefits</th>\n",
              "      <th>TotalPay</th>\n",
              "      <th>TotalPayBenefits</th>\n",
              "      <th>Year</th>\n",
              "      <th>Notes</th>\n",
              "      <th>Agency</th>\n",
              "      <th>Status</th>\n",
              "      <th>gender</th>\n",
              "    </tr>\n",
              "  </thead>\n",
              "  <tbody>\n",
              "    <tr>\n",
              "      <th>0</th>\n",
              "      <td>0</td>\n",
              "      <td>1</td>\n",
              "      <td>nathaniel ford</td>\n",
              "      <td>general manager-metropolitan transit authority</td>\n",
              "      <td>167411</td>\n",
              "      <td>0</td>\n",
              "      <td>400184</td>\n",
              "      <td>NaN</td>\n",
              "      <td>567595.43</td>\n",
              "      <td>567595.43</td>\n",
              "      <td>2011</td>\n",
              "      <td>NaN</td>\n",
              "      <td>San Francisco</td>\n",
              "      <td>NaN</td>\n",
              "      <td>m</td>\n",
              "    </tr>\n",
              "    <tr>\n",
              "      <th>1</th>\n",
              "      <td>1</td>\n",
              "      <td>2</td>\n",
              "      <td>gary jimenez</td>\n",
              "      <td>captain iii (police department)</td>\n",
              "      <td>155966</td>\n",
              "      <td>245132</td>\n",
              "      <td>137811</td>\n",
              "      <td>NaN</td>\n",
              "      <td>538909.28</td>\n",
              "      <td>538909.28</td>\n",
              "      <td>2011</td>\n",
              "      <td>NaN</td>\n",
              "      <td>San Francisco</td>\n",
              "      <td>NaN</td>\n",
              "      <td>m</td>\n",
              "    </tr>\n",
              "    <tr>\n",
              "      <th>2</th>\n",
              "      <td>2</td>\n",
              "      <td>3</td>\n",
              "      <td>albert pardini</td>\n",
              "      <td>captain iii (police department)</td>\n",
              "      <td>212739</td>\n",
              "      <td>106088</td>\n",
              "      <td>16452.6</td>\n",
              "      <td>NaN</td>\n",
              "      <td>335279.91</td>\n",
              "      <td>335279.91</td>\n",
              "      <td>2011</td>\n",
              "      <td>NaN</td>\n",
              "      <td>San Francisco</td>\n",
              "      <td>NaN</td>\n",
              "      <td>m</td>\n",
              "    </tr>\n",
              "    <tr>\n",
              "      <th>3</th>\n",
              "      <td>3</td>\n",
              "      <td>4</td>\n",
              "      <td>christopher chong</td>\n",
              "      <td>wire rope cable maintenance mechanic</td>\n",
              "      <td>77916</td>\n",
              "      <td>56120.7</td>\n",
              "      <td>198307</td>\n",
              "      <td>NaN</td>\n",
              "      <td>332343.61</td>\n",
              "      <td>332343.61</td>\n",
              "      <td>2011</td>\n",
              "      <td>NaN</td>\n",
              "      <td>San Francisco</td>\n",
              "      <td>NaN</td>\n",
              "      <td>m</td>\n",
              "    </tr>\n",
              "    <tr>\n",
              "      <th>4</th>\n",
              "      <td>4</td>\n",
              "      <td>5</td>\n",
              "      <td>patrick gardner</td>\n",
              "      <td>deputy chief of department,(fire department)</td>\n",
              "      <td>134402</td>\n",
              "      <td>9737</td>\n",
              "      <td>182235</td>\n",
              "      <td>NaN</td>\n",
              "      <td>326373.19</td>\n",
              "      <td>326373.19</td>\n",
              "      <td>2011</td>\n",
              "      <td>NaN</td>\n",
              "      <td>San Francisco</td>\n",
              "      <td>NaN</td>\n",
              "      <td>m</td>\n",
              "    </tr>\n",
              "    <tr>\n",
              "      <th>5</th>\n",
              "      <td>5</td>\n",
              "      <td>6</td>\n",
              "      <td>david sullivan</td>\n",
              "      <td>assistant deputy chief ii</td>\n",
              "      <td>118602</td>\n",
              "      <td>8601</td>\n",
              "      <td>189083</td>\n",
              "      <td>NaN</td>\n",
              "      <td>316285.74</td>\n",
              "      <td>316285.74</td>\n",
              "      <td>2011</td>\n",
              "      <td>NaN</td>\n",
              "      <td>San Francisco</td>\n",
              "      <td>NaN</td>\n",
              "      <td>m</td>\n",
              "    </tr>\n",
              "    <tr>\n",
              "      <th>6</th>\n",
              "      <td>6</td>\n",
              "      <td>7</td>\n",
              "      <td>alson lee</td>\n",
              "      <td>battalion chief, (fire department)</td>\n",
              "      <td>92492</td>\n",
              "      <td>89062.9</td>\n",
              "      <td>134426</td>\n",
              "      <td>NaN</td>\n",
              "      <td>315981.05</td>\n",
              "      <td>315981.05</td>\n",
              "      <td>2011</td>\n",
              "      <td>NaN</td>\n",
              "      <td>San Francisco</td>\n",
              "      <td>NaN</td>\n",
              "      <td>NaN</td>\n",
              "    </tr>\n",
              "    <tr>\n",
              "      <th>7</th>\n",
              "      <td>7</td>\n",
              "      <td>8</td>\n",
              "      <td>david kushner</td>\n",
              "      <td>deputy director of investments</td>\n",
              "      <td>256577</td>\n",
              "      <td>0</td>\n",
              "      <td>51322.5</td>\n",
              "      <td>NaN</td>\n",
              "      <td>307899.46</td>\n",
              "      <td>307899.46</td>\n",
              "      <td>2011</td>\n",
              "      <td>NaN</td>\n",
              "      <td>San Francisco</td>\n",
              "      <td>NaN</td>\n",
              "      <td>m</td>\n",
              "    </tr>\n",
              "    <tr>\n",
              "      <th>8</th>\n",
              "      <td>8</td>\n",
              "      <td>9</td>\n",
              "      <td>michael morris</td>\n",
              "      <td>battalion chief, (fire department)</td>\n",
              "      <td>176933</td>\n",
              "      <td>86362.7</td>\n",
              "      <td>40132.2</td>\n",
              "      <td>NaN</td>\n",
              "      <td>303427.55</td>\n",
              "      <td>303427.55</td>\n",
              "      <td>2011</td>\n",
              "      <td>NaN</td>\n",
              "      <td>San Francisco</td>\n",
              "      <td>NaN</td>\n",
              "      <td>m</td>\n",
              "    </tr>\n",
              "    <tr>\n",
              "      <th>9</th>\n",
              "      <td>9</td>\n",
              "      <td>10</td>\n",
              "      <td>joanne hayes-white</td>\n",
              "      <td>chief of department, (fire department)</td>\n",
              "      <td>285262</td>\n",
              "      <td>0</td>\n",
              "      <td>17115.7</td>\n",
              "      <td>NaN</td>\n",
              "      <td>302377.73</td>\n",
              "      <td>302377.73</td>\n",
              "      <td>2011</td>\n",
              "      <td>NaN</td>\n",
              "      <td>San Francisco</td>\n",
              "      <td>NaN</td>\n",
              "      <td>f</td>\n",
              "    </tr>\n",
              "  </tbody>\n",
              "</table>\n",
              "</div>"
            ],
            "text/plain": [
              "   Unnamed: 0  Id       Employee Name  ...         Agency Status gender\n",
              "0           0   1      nathaniel ford  ...  San Francisco    NaN      m\n",
              "1           1   2        gary jimenez  ...  San Francisco    NaN      m\n",
              "2           2   3      albert pardini  ...  San Francisco    NaN      m\n",
              "3           3   4   christopher chong  ...  San Francisco    NaN      m\n",
              "4           4   5     patrick gardner  ...  San Francisco    NaN      m\n",
              "5           5   6      david sullivan  ...  San Francisco    NaN      m\n",
              "6           6   7           alson lee  ...  San Francisco    NaN    NaN\n",
              "7           7   8       david kushner  ...  San Francisco    NaN      m\n",
              "8           8   9      michael morris  ...  San Francisco    NaN      m\n",
              "9           9  10  joanne hayes-white  ...  San Francisco    NaN      f\n",
              "\n",
              "[10 rows x 15 columns]"
            ]
          },
          "metadata": {
            "tags": []
          },
          "execution_count": 134
        }
      ]
    },
    {
      "cell_type": "code",
      "metadata": {
        "id": "6KNslXbLQl6y",
        "colab": {
          "base_uri": "https://localhost:8080/",
          "height": 288
        },
        "outputId": "109c6b77-82de-47b8-f3f4-79d6aebe54c9"
      },
      "source": [
        "# Viewing the data description\n",
        "#we notice that there are negative values\n",
        "df.describe()"
      ],
      "execution_count": null,
      "outputs": [
        {
          "output_type": "execute_result",
          "data": {
            "text/html": [
              "<div>\n",
              "<style scoped>\n",
              "    .dataframe tbody tr th:only-of-type {\n",
              "        vertical-align: middle;\n",
              "    }\n",
              "\n",
              "    .dataframe tbody tr th {\n",
              "        vertical-align: top;\n",
              "    }\n",
              "\n",
              "    .dataframe thead th {\n",
              "        text-align: right;\n",
              "    }\n",
              "</style>\n",
              "<table border=\"1\" class=\"dataframe\">\n",
              "  <thead>\n",
              "    <tr style=\"text-align: right;\">\n",
              "      <th></th>\n",
              "      <th>Unnamed: 0</th>\n",
              "      <th>Id</th>\n",
              "      <th>TotalPay</th>\n",
              "      <th>TotalPayBenefits</th>\n",
              "      <th>Year</th>\n",
              "      <th>Notes</th>\n",
              "    </tr>\n",
              "  </thead>\n",
              "  <tbody>\n",
              "    <tr>\n",
              "      <th>count</th>\n",
              "      <td>148654.000000</td>\n",
              "      <td>148654.000000</td>\n",
              "      <td>148654.000000</td>\n",
              "      <td>148654.000000</td>\n",
              "      <td>148654.000000</td>\n",
              "      <td>0.0</td>\n",
              "    </tr>\n",
              "    <tr>\n",
              "      <th>mean</th>\n",
              "      <td>74326.500000</td>\n",
              "      <td>74327.500000</td>\n",
              "      <td>74768.321972</td>\n",
              "      <td>93692.554811</td>\n",
              "      <td>2012.522643</td>\n",
              "      <td>NaN</td>\n",
              "    </tr>\n",
              "    <tr>\n",
              "      <th>std</th>\n",
              "      <td>42912.857795</td>\n",
              "      <td>42912.857795</td>\n",
              "      <td>50517.005274</td>\n",
              "      <td>62793.533483</td>\n",
              "      <td>1.117538</td>\n",
              "      <td>NaN</td>\n",
              "    </tr>\n",
              "    <tr>\n",
              "      <th>min</th>\n",
              "      <td>0.000000</td>\n",
              "      <td>1.000000</td>\n",
              "      <td>-618.130000</td>\n",
              "      <td>-618.130000</td>\n",
              "      <td>2011.000000</td>\n",
              "      <td>NaN</td>\n",
              "    </tr>\n",
              "    <tr>\n",
              "      <th>25%</th>\n",
              "      <td>37163.250000</td>\n",
              "      <td>37164.250000</td>\n",
              "      <td>36168.995000</td>\n",
              "      <td>44065.650000</td>\n",
              "      <td>2012.000000</td>\n",
              "      <td>NaN</td>\n",
              "    </tr>\n",
              "    <tr>\n",
              "      <th>50%</th>\n",
              "      <td>74326.500000</td>\n",
              "      <td>74327.500000</td>\n",
              "      <td>71426.610000</td>\n",
              "      <td>92404.090000</td>\n",
              "      <td>2013.000000</td>\n",
              "      <td>NaN</td>\n",
              "    </tr>\n",
              "    <tr>\n",
              "      <th>75%</th>\n",
              "      <td>111489.750000</td>\n",
              "      <td>111490.750000</td>\n",
              "      <td>105839.135000</td>\n",
              "      <td>132876.450000</td>\n",
              "      <td>2014.000000</td>\n",
              "      <td>NaN</td>\n",
              "    </tr>\n",
              "    <tr>\n",
              "      <th>max</th>\n",
              "      <td>148653.000000</td>\n",
              "      <td>148654.000000</td>\n",
              "      <td>567595.430000</td>\n",
              "      <td>567595.430000</td>\n",
              "      <td>2014.000000</td>\n",
              "      <td>NaN</td>\n",
              "    </tr>\n",
              "  </tbody>\n",
              "</table>\n",
              "</div>"
            ],
            "text/plain": [
              "          Unnamed: 0             Id  ...           Year  Notes\n",
              "count  148654.000000  148654.000000  ...  148654.000000    0.0\n",
              "mean    74326.500000   74327.500000  ...    2012.522643    NaN\n",
              "std     42912.857795   42912.857795  ...       1.117538    NaN\n",
              "min         0.000000       1.000000  ...    2011.000000    NaN\n",
              "25%     37163.250000   37164.250000  ...    2012.000000    NaN\n",
              "50%     74326.500000   74327.500000  ...    2013.000000    NaN\n",
              "75%    111489.750000  111490.750000  ...    2014.000000    NaN\n",
              "max    148653.000000  148654.000000  ...    2014.000000    NaN\n",
              "\n",
              "[8 rows x 6 columns]"
            ]
          },
          "metadata": {
            "tags": []
          },
          "execution_count": 135
        }
      ]
    },
    {
      "cell_type": "markdown",
      "metadata": {
        "id": "fvFfElH6QtAR"
      },
      "source": [
        "##Cleaning the data"
      ]
    },
    {
      "cell_type": "markdown",
      "metadata": {
        "id": "UZDiKT06Qwoi"
      },
      "source": [
        "###Validity"
      ]
    },
    {
      "cell_type": "code",
      "metadata": {
        "id": "UW4I3SEnQ22g"
      },
      "source": [
        "# drop columns\n",
        "df.drop(['Unnamed: 0', 'Notes', 'Status', 'Id'], axis = 1, inplace = True)"
      ],
      "execution_count": null,
      "outputs": []
    },
    {
      "cell_type": "code",
      "metadata": {
        "id": "M3i9AcYNQ8oE",
        "colab": {
          "base_uri": "https://localhost:8080/"
        },
        "outputId": "df6ac3d5-f00d-40e5-8827-d8b0ed0cef7b"
      },
      "source": [
        "#confirming the remaining columns\n",
        "df.info()"
      ],
      "execution_count": null,
      "outputs": [
        {
          "output_type": "stream",
          "text": [
            "<class 'pandas.core.frame.DataFrame'>\n",
            "RangeIndex: 148654 entries, 0 to 148653\n",
            "Data columns (total 11 columns):\n",
            " #   Column            Non-Null Count   Dtype  \n",
            "---  ------            --------------   -----  \n",
            " 0   Employee Name     148653 non-null  object \n",
            " 1   JobTitle          148654 non-null  object \n",
            " 2   BasePay           148049 non-null  object \n",
            " 3   OvertimePay       148654 non-null  object \n",
            " 4   OtherPay          148654 non-null  object \n",
            " 5   Benefits          112495 non-null  object \n",
            " 6   TotalPay          148654 non-null  float64\n",
            " 7   TotalPayBenefits  148654 non-null  float64\n",
            " 8   Year              148654 non-null  int64  \n",
            " 9   Agency            148654 non-null  object \n",
            " 10  gender            119169 non-null  object \n",
            "dtypes: float64(2), int64(1), object(8)\n",
            "memory usage: 12.5+ MB\n"
          ],
          "name": "stdout"
        }
      ]
    },
    {
      "cell_type": "code",
      "metadata": {
        "id": "NifjhONxQ_Wo"
      },
      "source": [
        "#Drop rows where Base Pay is indicated not provided\n",
        "df.drop(df.index[df['BasePay'] == 'Not Provided'], inplace = True)"
      ],
      "execution_count": null,
      "outputs": []
    },
    {
      "cell_type": "markdown",
      "metadata": {
        "id": "zC750TrYRKCQ"
      },
      "source": [
        "###Uniformity"
      ]
    },
    {
      "cell_type": "code",
      "metadata": {
        "id": "qSJ3SVvMRO-J",
        "colab": {
          "base_uri": "https://localhost:8080/"
        },
        "outputId": "eed123e7-2cb4-40bd-acd1-7e6c35cfbb82"
      },
      "source": [
        "#convert datatypes\n",
        "# strings to float\n",
        "df[\"BasePay\"] = df[\"BasePay\"].astype(float)\n",
        "df[\"OvertimePay\"] = df[\"OvertimePay\"].astype(float)\n",
        "df[\"OtherPay\"] = df[\"OtherPay\"].astype(float)\n",
        "df[\"Benefits\"] = df[\"Benefits\"].astype(float)\n",
        "df.dtypes"
      ],
      "execution_count": null,
      "outputs": [
        {
          "output_type": "execute_result",
          "data": {
            "text/plain": [
              "Employee Name        object\n",
              "JobTitle             object\n",
              "BasePay             float64\n",
              "OvertimePay         float64\n",
              "OtherPay            float64\n",
              "Benefits            float64\n",
              "TotalPay            float64\n",
              "TotalPayBenefits    float64\n",
              "Year                  int64\n",
              "Agency               object\n",
              "gender               object\n",
              "dtype: object"
            ]
          },
          "metadata": {
            "tags": []
          },
          "execution_count": 139
        }
      ]
    },
    {
      "cell_type": "code",
      "metadata": {
        "id": "Rx2QNL95RYNn"
      },
      "source": [
        "#Changing column names to be uniform\n",
        "df.columns =['EmployeeName',\t'JobTitle',\t'BasePay',\t'OvertimePay',\t'OtherPay',\t'Benefits',\t'TotalPay',\t'TotalPayBenefits',\t'Year',\t'Agency',\t'Gender']\n"
      ],
      "execution_count": null,
      "outputs": []
    },
    {
      "cell_type": "code",
      "metadata": {
        "id": "Ct0tCUfjRiZQ",
        "colab": {
          "base_uri": "https://localhost:8080/",
          "height": 308
        },
        "outputId": "4fd34274-87ce-4514-9a78-34ffe2ffcbd2"
      },
      "source": [
        "#Dropping rows with negative values\n",
        "df.drop(df.index[df['TotalPay'] < 0], inplace = True)\n",
        "df.drop(df.index[df['BasePay'] < 0], inplace = True)\n",
        "df.drop(df.index[df['OvertimePay'] < 0], inplace = True)\n",
        "df.drop(df.index[df['OtherPay'] < 0], inplace = True)\n",
        "df.drop(df.index[df['Benefits']< 0], inplace = True)\n",
        "df.drop(df.index[df['BasePay'] < 0], inplace = True)\n",
        "df.describe()"
      ],
      "execution_count": null,
      "outputs": [
        {
          "output_type": "execute_result",
          "data": {
            "text/html": [
              "<div>\n",
              "<style scoped>\n",
              "    .dataframe tbody tr th:only-of-type {\n",
              "        vertical-align: middle;\n",
              "    }\n",
              "\n",
              "    .dataframe tbody tr th {\n",
              "        vertical-align: top;\n",
              "    }\n",
              "\n",
              "    .dataframe thead th {\n",
              "        text-align: right;\n",
              "    }\n",
              "</style>\n",
              "<table border=\"1\" class=\"dataframe\">\n",
              "  <thead>\n",
              "    <tr style=\"text-align: right;\">\n",
              "      <th></th>\n",
              "      <th>BasePay</th>\n",
              "      <th>OvertimePay</th>\n",
              "      <th>OtherPay</th>\n",
              "      <th>Benefits</th>\n",
              "      <th>TotalPay</th>\n",
              "      <th>TotalPayBenefits</th>\n",
              "      <th>Year</th>\n",
              "    </tr>\n",
              "  </thead>\n",
              "  <tbody>\n",
              "    <tr>\n",
              "      <th>count</th>\n",
              "      <td>148027.000000</td>\n",
              "      <td>148629.000000</td>\n",
              "      <td>148629.000000</td>\n",
              "      <td>112470.000000</td>\n",
              "      <td>148629.000000</td>\n",
              "      <td>148629.000000</td>\n",
              "      <td>148629.000000</td>\n",
              "    </tr>\n",
              "    <tr>\n",
              "      <th>mean</th>\n",
              "      <td>66331.428168</td>\n",
              "      <td>5066.750620</td>\n",
              "      <td>3649.257616</td>\n",
              "      <td>25011.525799</td>\n",
              "      <td>74778.770667</td>\n",
              "      <td>93705.402123</td>\n",
              "      <td>2012.522597</td>\n",
              "    </tr>\n",
              "    <tr>\n",
              "      <th>std</th>\n",
              "      <td>42762.323488</td>\n",
              "      <td>11455.040983</td>\n",
              "      <td>8057.002045</td>\n",
              "      <td>15400.558302</td>\n",
              "      <td>50513.549006</td>\n",
              "      <td>62789.023704</td>\n",
              "      <td>1.117578</td>\n",
              "    </tr>\n",
              "    <tr>\n",
              "      <th>min</th>\n",
              "      <td>0.000000</td>\n",
              "      <td>0.000000</td>\n",
              "      <td>0.000000</td>\n",
              "      <td>0.000000</td>\n",
              "      <td>0.000000</td>\n",
              "      <td>0.000000</td>\n",
              "      <td>2011.000000</td>\n",
              "    </tr>\n",
              "    <tr>\n",
              "      <th>25%</th>\n",
              "      <td>33599.910000</td>\n",
              "      <td>0.000000</td>\n",
              "      <td>0.000000</td>\n",
              "      <td>11546.870000</td>\n",
              "      <td>36182.980000</td>\n",
              "      <td>44106.370000</td>\n",
              "      <td>2012.000000</td>\n",
              "    </tr>\n",
              "    <tr>\n",
              "      <th>50%</th>\n",
              "      <td>65010.820000</td>\n",
              "      <td>0.000000</td>\n",
              "      <td>812.120000</td>\n",
              "      <td>28629.855000</td>\n",
              "      <td>71431.580000</td>\n",
              "      <td>92412.080000</td>\n",
              "      <td>2013.000000</td>\n",
              "    </tr>\n",
              "    <tr>\n",
              "      <th>75%</th>\n",
              "      <td>94691.060000</td>\n",
              "      <td>4658.830000</td>\n",
              "      <td>4237.140000</td>\n",
              "      <td>35568.720000</td>\n",
              "      <td>105847.260000</td>\n",
              "      <td>132882.060000</td>\n",
              "      <td>2014.000000</td>\n",
              "    </tr>\n",
              "    <tr>\n",
              "      <th>max</th>\n",
              "      <td>319275.010000</td>\n",
              "      <td>245131.880000</td>\n",
              "      <td>400184.250000</td>\n",
              "      <td>96570.660000</td>\n",
              "      <td>567595.430000</td>\n",
              "      <td>567595.430000</td>\n",
              "      <td>2014.000000</td>\n",
              "    </tr>\n",
              "  </tbody>\n",
              "</table>\n",
              "</div>"
            ],
            "text/plain": [
              "             BasePay    OvertimePay  ...  TotalPayBenefits           Year\n",
              "count  148027.000000  148629.000000  ...     148629.000000  148629.000000\n",
              "mean    66331.428168    5066.750620  ...      93705.402123    2012.522597\n",
              "std     42762.323488   11455.040983  ...      62789.023704       1.117578\n",
              "min         0.000000       0.000000  ...          0.000000    2011.000000\n",
              "25%     33599.910000       0.000000  ...      44106.370000    2012.000000\n",
              "50%     65010.820000       0.000000  ...      92412.080000    2013.000000\n",
              "75%     94691.060000    4658.830000  ...     132882.060000    2014.000000\n",
              "max    319275.010000  245131.880000  ...     567595.430000    2014.000000\n",
              "\n",
              "[8 rows x 7 columns]"
            ]
          },
          "metadata": {
            "tags": []
          },
          "execution_count": 141
        }
      ]
    },
    {
      "cell_type": "markdown",
      "metadata": {
        "id": "W9230vxDRnn3"
      },
      "source": [
        "###Completeness"
      ]
    },
    {
      "cell_type": "code",
      "metadata": {
        "id": "ygzZ9wAXRqGn",
        "colab": {
          "base_uri": "https://localhost:8080/"
        },
        "outputId": "68c3e0ce-fd38-4478-b870-4d1c3c38919d"
      },
      "source": [
        "#Checking for missing values\n",
        "df.isnull().any()"
      ],
      "execution_count": null,
      "outputs": [
        {
          "output_type": "execute_result",
          "data": {
            "text/plain": [
              "EmployeeName         True\n",
              "JobTitle            False\n",
              "BasePay              True\n",
              "OvertimePay         False\n",
              "OtherPay            False\n",
              "Benefits             True\n",
              "TotalPay            False\n",
              "TotalPayBenefits    False\n",
              "Year                False\n",
              "Agency              False\n",
              "Gender               True\n",
              "dtype: bool"
            ]
          },
          "metadata": {
            "tags": []
          },
          "execution_count": 142
        }
      ]
    },
    {
      "cell_type": "code",
      "metadata": {
        "id": "GbENUlJSRvdX"
      },
      "source": [
        "# Change null values to 0 in BasePay, OvertimePay, OtherPay and Benefits columns\n",
        "df.BasePay=df.BasePay.fillna(0)\n",
        "df[\"OvertimePay\"] = df[\"OvertimePay\"].fillna(0)\n",
        "df[\"OtherPay\"] = df[\"OtherPay\"].fillna(0)\n",
        "df[\"Benefits\"] = df[\"Benefits\"].fillna(0)"
      ],
      "execution_count": null,
      "outputs": []
    },
    {
      "cell_type": "markdown",
      "metadata": {
        "id": "rbvN3Zs5R07X"
      },
      "source": [
        "###Consistency"
      ]
    },
    {
      "cell_type": "code",
      "metadata": {
        "id": "V7ZJ3z38R5B_",
        "colab": {
          "base_uri": "https://localhost:8080/"
        },
        "outputId": "1e4db5b2-885a-416d-b30e-32283e5fa929"
      },
      "source": [
        "# Checking for duplicates\n",
        "df.duplicated().any()"
      ],
      "execution_count": null,
      "outputs": [
        {
          "output_type": "execute_result",
          "data": {
            "text/plain": [
              "True"
            ]
          },
          "metadata": {
            "tags": []
          },
          "execution_count": 144
        }
      ]
    },
    {
      "cell_type": "code",
      "metadata": {
        "id": "H_4L3FOXR_fS"
      },
      "source": [
        "#Dropping the duplicates\n",
        "df = df.drop_duplicates()"
      ],
      "execution_count": null,
      "outputs": []
    },
    {
      "cell_type": "markdown",
      "metadata": {
        "id": "sw3z9_p0SC_B"
      },
      "source": [
        "###Accuracy"
      ]
    },
    {
      "cell_type": "code",
      "metadata": {
        "id": "MsDSu2uNSGys",
        "colab": {
          "base_uri": "https://localhost:8080/",
          "height": 755
        },
        "outputId": "721661e3-8e14-42f0-bd35-bfa926696486"
      },
      "source": [
        "#Checking whether BasePay, OvertimePay, OtherPay and Benefits totals to TotalPayBenefits  \n",
        "# Displaying those that do not tally\n",
        "df[df.BasePay + df.OvertimePay + df.OtherPay + df.Benefits != df.TotalPayBenefits]\n"
      ],
      "execution_count": null,
      "outputs": [
        {
          "output_type": "execute_result",
          "data": {
            "text/html": [
              "<div>\n",
              "<style scoped>\n",
              "    .dataframe tbody tr th:only-of-type {\n",
              "        vertical-align: middle;\n",
              "    }\n",
              "\n",
              "    .dataframe tbody tr th {\n",
              "        vertical-align: top;\n",
              "    }\n",
              "\n",
              "    .dataframe thead th {\n",
              "        text-align: right;\n",
              "    }\n",
              "</style>\n",
              "<table border=\"1\" class=\"dataframe\">\n",
              "  <thead>\n",
              "    <tr style=\"text-align: right;\">\n",
              "      <th></th>\n",
              "      <th>EmployeeName</th>\n",
              "      <th>JobTitle</th>\n",
              "      <th>BasePay</th>\n",
              "      <th>OvertimePay</th>\n",
              "      <th>OtherPay</th>\n",
              "      <th>Benefits</th>\n",
              "      <th>TotalPay</th>\n",
              "      <th>TotalPayBenefits</th>\n",
              "      <th>Year</th>\n",
              "      <th>Agency</th>\n",
              "      <th>Gender</th>\n",
              "    </tr>\n",
              "  </thead>\n",
              "  <tbody>\n",
              "    <tr>\n",
              "      <th>0</th>\n",
              "      <td>nathaniel ford</td>\n",
              "      <td>general manager-metropolitan transit authority</td>\n",
              "      <td>167411.18</td>\n",
              "      <td>0.00</td>\n",
              "      <td>400184.25</td>\n",
              "      <td>0.00</td>\n",
              "      <td>567595.43</td>\n",
              "      <td>567595.43</td>\n",
              "      <td>2011</td>\n",
              "      <td>San Francisco</td>\n",
              "      <td>m</td>\n",
              "    </tr>\n",
              "    <tr>\n",
              "      <th>7</th>\n",
              "      <td>david kushner</td>\n",
              "      <td>deputy director of investments</td>\n",
              "      <td>256576.96</td>\n",
              "      <td>0.00</td>\n",
              "      <td>51322.50</td>\n",
              "      <td>0.00</td>\n",
              "      <td>307899.46</td>\n",
              "      <td>307899.46</td>\n",
              "      <td>2011</td>\n",
              "      <td>San Francisco</td>\n",
              "      <td>m</td>\n",
              "    </tr>\n",
              "    <tr>\n",
              "      <th>10</th>\n",
              "      <td>arthur kenney</td>\n",
              "      <td>assistant chief of department, (fire department)</td>\n",
              "      <td>194999.39</td>\n",
              "      <td>71344.88</td>\n",
              "      <td>33149.90</td>\n",
              "      <td>0.00</td>\n",
              "      <td>299494.17</td>\n",
              "      <td>299494.17</td>\n",
              "      <td>2011</td>\n",
              "      <td>San Francisco</td>\n",
              "      <td>m</td>\n",
              "    </tr>\n",
              "    <tr>\n",
              "      <th>13</th>\n",
              "      <td>john martin</td>\n",
              "      <td>department head v</td>\n",
              "      <td>271329.03</td>\n",
              "      <td>0.00</td>\n",
              "      <td>21342.59</td>\n",
              "      <td>0.00</td>\n",
              "      <td>292671.62</td>\n",
              "      <td>292671.62</td>\n",
              "      <td>2011</td>\n",
              "      <td>San Francisco</td>\n",
              "      <td>m</td>\n",
              "    </tr>\n",
              "    <tr>\n",
              "      <th>15</th>\n",
              "      <td>richard corriea</td>\n",
              "      <td>commander iii, (police department)</td>\n",
              "      <td>198778.01</td>\n",
              "      <td>73478.20</td>\n",
              "      <td>13957.65</td>\n",
              "      <td>0.00</td>\n",
              "      <td>286213.86</td>\n",
              "      <td>286213.86</td>\n",
              "      <td>2011</td>\n",
              "      <td>San Francisco</td>\n",
              "      <td>m</td>\n",
              "    </tr>\n",
              "    <tr>\n",
              "      <th>...</th>\n",
              "      <td>...</td>\n",
              "      <td>...</td>\n",
              "      <td>...</td>\n",
              "      <td>...</td>\n",
              "      <td>...</td>\n",
              "      <td>...</td>\n",
              "      <td>...</td>\n",
              "      <td>...</td>\n",
              "      <td>...</td>\n",
              "      <td>...</td>\n",
              "      <td>...</td>\n",
              "    </tr>\n",
              "    <tr>\n",
              "      <th>148582</th>\n",
              "      <td>eva m</td>\n",
              "      <td>recreation leader</td>\n",
              "      <td>51.60</td>\n",
              "      <td>0.00</td>\n",
              "      <td>0.00</td>\n",
              "      <td>0.52</td>\n",
              "      <td>51.60</td>\n",
              "      <td>52.12</td>\n",
              "      <td>2014</td>\n",
              "      <td>San Francisco</td>\n",
              "      <td>f</td>\n",
              "    </tr>\n",
              "    <tr>\n",
              "      <th>148596</th>\n",
              "      <td>rowena t</td>\n",
              "      <td>registered nurse</td>\n",
              "      <td>0.00</td>\n",
              "      <td>0.00</td>\n",
              "      <td>33.55</td>\n",
              "      <td>6.91</td>\n",
              "      <td>33.55</td>\n",
              "      <td>40.46</td>\n",
              "      <td>2014</td>\n",
              "      <td>San Francisco</td>\n",
              "      <td>NaN</td>\n",
              "    </tr>\n",
              "    <tr>\n",
              "      <th>148600</th>\n",
              "      <td>kim l</td>\n",
              "      <td>recreation leader</td>\n",
              "      <td>37.23</td>\n",
              "      <td>0.00</td>\n",
              "      <td>0.00</td>\n",
              "      <td>0.37</td>\n",
              "      <td>37.23</td>\n",
              "      <td>37.60</td>\n",
              "      <td>2014</td>\n",
              "      <td>San Francisco</td>\n",
              "      <td>f</td>\n",
              "    </tr>\n",
              "    <tr>\n",
              "      <th>148601</th>\n",
              "      <td>brieanna mcfadden</td>\n",
              "      <td>recreation leader</td>\n",
              "      <td>34.88</td>\n",
              "      <td>0.00</td>\n",
              "      <td>0.00</td>\n",
              "      <td>0.35</td>\n",
              "      <td>34.88</td>\n",
              "      <td>35.23</td>\n",
              "      <td>2014</td>\n",
              "      <td>San Francisco</td>\n",
              "      <td>NaN</td>\n",
              "    </tr>\n",
              "    <tr>\n",
              "      <th>148604</th>\n",
              "      <td>sugyn m</td>\n",
              "      <td>publ svc aide-asst to prof</td>\n",
              "      <td>34.03</td>\n",
              "      <td>0.00</td>\n",
              "      <td>0.00</td>\n",
              "      <td>0.34</td>\n",
              "      <td>34.03</td>\n",
              "      <td>34.37</td>\n",
              "      <td>2014</td>\n",
              "      <td>San Francisco</td>\n",
              "      <td>NaN</td>\n",
              "    </tr>\n",
              "  </tbody>\n",
              "</table>\n",
              "<p>36094 rows × 11 columns</p>\n",
              "</div>"
            ],
            "text/plain": [
              "             EmployeeName  ... Gender\n",
              "0          nathaniel ford  ...      m\n",
              "7           david kushner  ...      m\n",
              "10          arthur kenney  ...      m\n",
              "13            john martin  ...      m\n",
              "15        richard corriea  ...      m\n",
              "...                   ...  ...    ...\n",
              "148582              eva m  ...      f\n",
              "148596           rowena t  ...    NaN\n",
              "148600              kim l  ...      f\n",
              "148601  brieanna mcfadden  ...    NaN\n",
              "148604            sugyn m  ...    NaN\n",
              "\n",
              "[36094 rows x 11 columns]"
            ]
          },
          "metadata": {
            "tags": []
          },
          "execution_count": 146
        }
      ]
    },
    {
      "cell_type": "code",
      "metadata": {
        "id": "35W0KL6kSLCu",
        "colab": {
          "base_uri": "https://localhost:8080/"
        },
        "outputId": "7efce86d-3bae-4416-d700-bff78e48b13a"
      },
      "source": [
        "# Since we have rows where BasePay, OvertimePay, OtherPay and Benefits does not totals to TotalPayBenefits,\n",
        "# We create a new colum which is a sum of BasePay,\tOvertimePay,\tOtherPay and\tBenefits and call it 'Pay'\n",
        "# \n",
        "\n",
        "df['Pay'] = df.BasePay + df.OvertimePay + df.OtherPay +df.Benefits\n",
        "\n",
        "df.info()"
      ],
      "execution_count": null,
      "outputs": [
        {
          "output_type": "stream",
          "text": [
            "<class 'pandas.core.frame.DataFrame'>\n",
            "Int64Index: 148626 entries, 0 to 148649\n",
            "Data columns (total 12 columns):\n",
            " #   Column            Non-Null Count   Dtype  \n",
            "---  ------            --------------   -----  \n",
            " 0   EmployeeName      148625 non-null  object \n",
            " 1   JobTitle          148626 non-null  object \n",
            " 2   BasePay           148626 non-null  float64\n",
            " 3   OvertimePay       148626 non-null  float64\n",
            " 4   OtherPay          148626 non-null  float64\n",
            " 5   Benefits          148626 non-null  float64\n",
            " 6   TotalPay          148626 non-null  float64\n",
            " 7   TotalPayBenefits  148626 non-null  float64\n",
            " 8   Year              148626 non-null  int64  \n",
            " 9   Agency            148626 non-null  object \n",
            " 10  Gender            119145 non-null  object \n",
            " 11  Pay               148626 non-null  float64\n",
            "dtypes: float64(7), int64(1), object(4)\n",
            "memory usage: 14.7+ MB\n"
          ],
          "name": "stdout"
        }
      ]
    },
    {
      "cell_type": "code",
      "metadata": {
        "id": "r_d5fGLuSP_6",
        "colab": {
          "base_uri": "https://localhost:8080/",
          "height": 68
        },
        "outputId": "169eb16b-a223-4376-ad48-97736df06a0e"
      },
      "source": [
        "#We now check whether the columns tally by displaying any row that does not tally\n",
        "df[df.BasePay + df.OvertimePay + df.OtherPay + df.Benefits != df.Pay]"
      ],
      "execution_count": null,
      "outputs": [
        {
          "output_type": "execute_result",
          "data": {
            "text/html": [
              "<div>\n",
              "<style scoped>\n",
              "    .dataframe tbody tr th:only-of-type {\n",
              "        vertical-align: middle;\n",
              "    }\n",
              "\n",
              "    .dataframe tbody tr th {\n",
              "        vertical-align: top;\n",
              "    }\n",
              "\n",
              "    .dataframe thead th {\n",
              "        text-align: right;\n",
              "    }\n",
              "</style>\n",
              "<table border=\"1\" class=\"dataframe\">\n",
              "  <thead>\n",
              "    <tr style=\"text-align: right;\">\n",
              "      <th></th>\n",
              "      <th>EmployeeName</th>\n",
              "      <th>JobTitle</th>\n",
              "      <th>BasePay</th>\n",
              "      <th>OvertimePay</th>\n",
              "      <th>OtherPay</th>\n",
              "      <th>Benefits</th>\n",
              "      <th>TotalPay</th>\n",
              "      <th>TotalPayBenefits</th>\n",
              "      <th>Year</th>\n",
              "      <th>Agency</th>\n",
              "      <th>Gender</th>\n",
              "      <th>Pay</th>\n",
              "    </tr>\n",
              "  </thead>\n",
              "  <tbody>\n",
              "  </tbody>\n",
              "</table>\n",
              "</div>"
            ],
            "text/plain": [
              "Empty DataFrame\n",
              "Columns: [EmployeeName, JobTitle, BasePay, OvertimePay, OtherPay, Benefits, TotalPay, TotalPayBenefits, Year, Agency, Gender, Pay]\n",
              "Index: []"
            ]
          },
          "metadata": {
            "tags": []
          },
          "execution_count": 148
        }
      ]
    },
    {
      "cell_type": "markdown",
      "metadata": {
        "id": "zhhdDtztSVJm"
      },
      "source": [
        "###Outliers"
      ]
    },
    {
      "cell_type": "code",
      "metadata": {
        "id": "wIcRRK5nSa0F",
        "colab": {
          "base_uri": "https://localhost:8080/",
          "height": 218
        },
        "outputId": "0eba7e3f-0ad4-4674-f8de-183b8b8f1df1"
      },
      "source": [
        "#We use 5th and 95 percentiles to see whether there are outliers\n",
        "# \n",
        "Q1 = df.quantile(0.05)\n",
        "Q3 = df.quantile(0.95)\n",
        "\n",
        "IQR = Q3 - Q1\n",
        "\n",
        "outliers=(df < (Q1 - 1.5 * IQR)) |(df > (Q3 + 1.5 * IQR))\n",
        "outliers.head()"
      ],
      "execution_count": null,
      "outputs": [
        {
          "output_type": "execute_result",
          "data": {
            "text/html": [
              "<div>\n",
              "<style scoped>\n",
              "    .dataframe tbody tr th:only-of-type {\n",
              "        vertical-align: middle;\n",
              "    }\n",
              "\n",
              "    .dataframe tbody tr th {\n",
              "        vertical-align: top;\n",
              "    }\n",
              "\n",
              "    .dataframe thead th {\n",
              "        text-align: right;\n",
              "    }\n",
              "</style>\n",
              "<table border=\"1\" class=\"dataframe\">\n",
              "  <thead>\n",
              "    <tr style=\"text-align: right;\">\n",
              "      <th></th>\n",
              "      <th>Agency</th>\n",
              "      <th>BasePay</th>\n",
              "      <th>Benefits</th>\n",
              "      <th>EmployeeName</th>\n",
              "      <th>Gender</th>\n",
              "      <th>JobTitle</th>\n",
              "      <th>OtherPay</th>\n",
              "      <th>OvertimePay</th>\n",
              "      <th>Pay</th>\n",
              "      <th>TotalPay</th>\n",
              "      <th>TotalPayBenefits</th>\n",
              "      <th>Year</th>\n",
              "    </tr>\n",
              "  </thead>\n",
              "  <tbody>\n",
              "    <tr>\n",
              "      <th>0</th>\n",
              "      <td>False</td>\n",
              "      <td>False</td>\n",
              "      <td>False</td>\n",
              "      <td>False</td>\n",
              "      <td>False</td>\n",
              "      <td>False</td>\n",
              "      <td>True</td>\n",
              "      <td>False</td>\n",
              "      <td>True</td>\n",
              "      <td>True</td>\n",
              "      <td>True</td>\n",
              "      <td>False</td>\n",
              "    </tr>\n",
              "    <tr>\n",
              "      <th>1</th>\n",
              "      <td>False</td>\n",
              "      <td>False</td>\n",
              "      <td>False</td>\n",
              "      <td>False</td>\n",
              "      <td>False</td>\n",
              "      <td>False</td>\n",
              "      <td>True</td>\n",
              "      <td>True</td>\n",
              "      <td>True</td>\n",
              "      <td>True</td>\n",
              "      <td>True</td>\n",
              "      <td>False</td>\n",
              "    </tr>\n",
              "    <tr>\n",
              "      <th>2</th>\n",
              "      <td>False</td>\n",
              "      <td>False</td>\n",
              "      <td>False</td>\n",
              "      <td>False</td>\n",
              "      <td>False</td>\n",
              "      <td>False</td>\n",
              "      <td>False</td>\n",
              "      <td>True</td>\n",
              "      <td>False</td>\n",
              "      <td>False</td>\n",
              "      <td>False</td>\n",
              "      <td>False</td>\n",
              "    </tr>\n",
              "    <tr>\n",
              "      <th>3</th>\n",
              "      <td>False</td>\n",
              "      <td>False</td>\n",
              "      <td>False</td>\n",
              "      <td>False</td>\n",
              "      <td>False</td>\n",
              "      <td>False</td>\n",
              "      <td>True</td>\n",
              "      <td>False</td>\n",
              "      <td>False</td>\n",
              "      <td>False</td>\n",
              "      <td>False</td>\n",
              "      <td>False</td>\n",
              "    </tr>\n",
              "    <tr>\n",
              "      <th>4</th>\n",
              "      <td>False</td>\n",
              "      <td>False</td>\n",
              "      <td>False</td>\n",
              "      <td>False</td>\n",
              "      <td>False</td>\n",
              "      <td>False</td>\n",
              "      <td>True</td>\n",
              "      <td>False</td>\n",
              "      <td>False</td>\n",
              "      <td>False</td>\n",
              "      <td>False</td>\n",
              "      <td>False</td>\n",
              "    </tr>\n",
              "  </tbody>\n",
              "</table>\n",
              "</div>"
            ],
            "text/plain": [
              "   Agency  BasePay  Benefits  ...  TotalPay  TotalPayBenefits   Year\n",
              "0   False    False     False  ...      True              True  False\n",
              "1   False    False     False  ...      True              True  False\n",
              "2   False    False     False  ...     False             False  False\n",
              "3   False    False     False  ...     False             False  False\n",
              "4   False    False     False  ...     False             False  False\n",
              "\n",
              "[5 rows x 12 columns]"
            ]
          },
          "metadata": {
            "tags": []
          },
          "execution_count": 149
        }
      ]
    },
    {
      "cell_type": "code",
      "metadata": {
        "id": "0Q4zLwb9Sidf",
        "colab": {
          "base_uri": "https://localhost:8080/"
        },
        "outputId": "535fbc97-e1cf-41fd-e7b5-a81e1e562f63"
      },
      "source": [
        "#We also plot box plots to see the extent of the outliers\n",
        "import matplotlib.pyplot as plt \n",
        "% matplotlib inline \n",
        "\n",
        "outliers=[]\n",
        "\n",
        "def detect_outlier(df):\n",
        "    \n",
        "    threshold=3\n",
        "    mean_1 = np.mean(df)\n",
        "    std_1 =np.std(df)\n",
        "    \n",
        "    for y in df:\n",
        "        z_score= (y - mean_1)/std_1 \n",
        "        if np.abs(z_score) > threshold:\n",
        "            outliers.append(y)\n",
        "    return outliers\n",
        "\n",
        "detect_outlier(df.TotalPay)"
      ],
      "execution_count": null,
      "outputs": [
        {
          "output_type": "execute_result",
          "data": {
            "text/plain": [
              "[567595.43,\n",
              " 538909.28,\n",
              " 335279.91,\n",
              " 332343.61,\n",
              " 326373.19,\n",
              " 316285.74,\n",
              " 315981.05,\n",
              " 307899.46,\n",
              " 303427.55,\n",
              " 302377.73,\n",
              " 299494.17,\n",
              " 297608.92,\n",
              " 294580.02,\n",
              " 292671.62,\n",
              " 286347.05,\n",
              " 286213.86,\n",
              " 284720.43,\n",
              " 278569.21,\n",
              " 276434.22,\n",
              " 274550.25,\n",
              " 274190.27,\n",
              " 273771.21,\n",
              " 273702.71,\n",
              " 270672.63,\n",
              " 270324.91,\n",
              " 267992.59,\n",
              " 265784.56,\n",
              " 265463.46,\n",
              " 264074.6,\n",
              " 261366.14,\n",
              " 260297.66,\n",
              " 259927.11,\n",
              " 259684.88,\n",
              " 258588.39,\n",
              " 258364.22,\n",
              " 257540.09,\n",
              " 257124.44,\n",
              " 253269.44,\n",
              " 251935.01,\n",
              " 251685.16,\n",
              " 250595.39,\n",
              " 250408.49,\n",
              " 250339.35,\n",
              " 250317.93,\n",
              " 250122.04,\n",
              " 249375.02,\n",
              " 249293.3,\n",
              " 248895.77,\n",
              " 248718.64,\n",
              " 248434.39,\n",
              " 247254.61,\n",
              " 246305.62,\n",
              " 244687.81,\n",
              " 242742.85,\n",
              " 241286.42,\n",
              " 241211.17,\n",
              " 240846.3,\n",
              " 240019.1,\n",
              " 239426.36,\n",
              " 238879.2,\n",
              " 238803.56,\n",
              " 238551.88,\n",
              " 238501.05,\n",
              " 238479.28,\n",
              " 237837.73,\n",
              " 237708.83,\n",
              " 237344.41,\n",
              " 236833.82,\n",
              " 236200.92,\n",
              " 234865.2,\n",
              " 234848.11,\n",
              " 233944.48,\n",
              " 233464.63,\n",
              " 233357.28,\n",
              " 232702.58,\n",
              " 232486.72,\n",
              " 232007.77,\n",
              " 231712.8,\n",
              " 231652.13,\n",
              " 231592.25,\n",
              " 231306.04,\n",
              " 231104.97,\n",
              " 230906.51,\n",
              " 230827.12,\n",
              " 230627.21,\n",
              " 230543.46,\n",
              " 230459.0,\n",
              " 230377.83,\n",
              " 230239.98,\n",
              " 230149.28,\n",
              " 229060.63,\n",
              " 228615.61,\n",
              " 228513.4,\n",
              " 228207.86,\n",
              " 227318.9,\n",
              " 227180.76,\n",
              " 227080.5,\n",
              " 226357.33,\n",
              " 362844.66,\n",
              " 321552.11,\n",
              " 336393.73,\n",
              " 314759.6,\n",
              " 337204.86,\n",
              " 291389.77,\n",
              " 294000.17,\n",
              " 293022.46,\n",
              " 350403.41,\n",
              " 315728.77,\n",
              " 321883.83,\n",
              " 316214.0,\n",
              " 316988.26,\n",
              " 310968.31,\n",
              " 327689.78,\n",
              " 299162.31,\n",
              " 284323.16,\n",
              " 288538.97,\n",
              " 284379.02,\n",
              " 279330.73,\n",
              " 294212.55,\n",
              " 302002.06,\n",
              " 286284.37,\n",
              " 276523.06,\n",
              " 263173.46,\n",
              " 293942.76,\n",
              " 260135.8,\n",
              " 293455.23,\n",
              " 259921.69,\n",
              " 264364.82,\n",
              " 308669.82,\n",
              " 281442.58,\n",
              " 284102.45,\n",
              " 255696.73,\n",
              " 311646.16,\n",
              " 260574.05,\n",
              " 308694.09,\n",
              " 275747.3,\n",
              " 275300.91,\n",
              " 288915.63,\n",
              " 290076.13,\n",
              " 249803.78,\n",
              " 274534.1,\n",
              " 303869.82,\n",
              " 256980.13,\n",
              " 264209.61,\n",
              " 246601.1,\n",
              " 277867.44,\n",
              " 268486.4,\n",
              " 271511.43,\n",
              " 263556.51,\n",
              " 257635.38,\n",
              " 251157.82,\n",
              " 264215.01,\n",
              " 244041.97,\n",
              " 257378.95,\n",
              " 262194.58,\n",
              " 241613.08,\n",
              " 255621.32,\n",
              " 241568.64,\n",
              " 234851.98,\n",
              " 259048.36,\n",
              " 267951.41,\n",
              " 256517.65,\n",
              " 232996.58,\n",
              " 233266.74,\n",
              " 282899.77,\n",
              " 252919.86,\n",
              " 262319.12,\n",
              " 250346.28,\n",
              " 260664.43,\n",
              " 250021.46,\n",
              " 258081.27,\n",
              " 238110.93,\n",
              " 243352.46,\n",
              " 255686.58,\n",
              " 227238.02,\n",
              " 276756.35,\n",
              " 227771.94,\n",
              " 259740.36,\n",
              " 258588.89,\n",
              " 229939.41,\n",
              " 240063.5,\n",
              " 254527.2,\n",
              " 230109.77,\n",
              " 230303.95,\n",
              " 253738.12,\n",
              " 228212.96,\n",
              " 240290.13,\n",
              " 253785.31,\n",
              " 249674.86,\n",
              " 242526.3,\n",
              " 232073.6,\n",
              " 227771.91,\n",
              " 252444.32,\n",
              " 250365.18,\n",
              " 229976.03,\n",
              " 241022.1,\n",
              " 242683.5,\n",
              " 234795.82,\n",
              " 242045.65,\n",
              " 229652.5,\n",
              " 237239.08,\n",
              " 242414.41,\n",
              " 227284.4,\n",
              " 240184.71,\n",
              " 245399.19,\n",
              " 244298.01,\n",
              " 246369.02,\n",
              " 233097.55,\n",
              " 239157.0,\n",
              " 234114.0,\n",
              " 232855.62,\n",
              " 229801.23,\n",
              " 242073.27,\n",
              " 239614.14,\n",
              " 240225.04,\n",
              " 236920.56,\n",
              " 243062.05,\n",
              " 241003.87,\n",
              " 240460.05,\n",
              " 237825.23,\n",
              " 237564.48,\n",
              " 236921.65,\n",
              " 239209.15,\n",
              " 234340.59,\n",
              " 235481.17,\n",
              " 235916.32,\n",
              " 252899.42,\n",
              " 232399.94,\n",
              " 245292.95,\n",
              " 237318.6,\n",
              " 249667.7,\n",
              " 236029.62,\n",
              " 228672.2,\n",
              " 232945.97,\n",
              " 232131.58,\n",
              " 232249.04,\n",
              " 237511.0,\n",
              " 233985.76,\n",
              " 229593.01,\n",
              " 232787.13,\n",
              " 233488.11,\n",
              " 230257.7,\n",
              " 228605.6,\n",
              " 230075.5,\n",
              " 226821.77,\n",
              " 226516.94,\n",
              " 228755.94,\n",
              " 226514.49,\n",
              " 228356.16,\n",
              " 228056.19,\n",
              " 227512.51,\n",
              " 227495.1,\n",
              " 235567.33,\n",
              " 228992.21,\n",
              " 234757.89,\n",
              " 228791.38,\n",
              " 233516.5,\n",
              " 227338.35,\n",
              " 229030.64,\n",
              " 339282.07,\n",
              " 336922.01,\n",
              " 347102.32,\n",
              " 335537.96,\n",
              " 315572.01,\n",
              " 333888.32,\n",
              " 313312.52,\n",
              " 312857.6,\n",
              " 305307.89,\n",
              " 324820.63,\n",
              " 303669.15,\n",
              " 322886.84,\n",
              " 296551.86,\n",
              " 294937.05,\n",
              " 312616.6,\n",
              " 290992.51,\n",
              " 311698.29,\n",
              " 311000.86,\n",
              " 320375.79,\n",
              " 287484.6,\n",
              " 285446.37,\n",
              " 326376.37,\n",
              " 285392.79,\n",
              " 298710.31,\n",
              " 301697.7,\n",
              " 282500.35,\n",
              " 282500.39,\n",
              " 299533.62,\n",
              " 276831.5,\n",
              " 293898.23,\n",
              " 273641.5,\n",
              " 273641.56,\n",
              " 273641.54,\n",
              " 288185.3,\n",
              " 297620.25,\n",
              " 289125.25,\n",
              " 288805.25,\n",
              " 270641.53,\n",
              " 270641.5,\n",
              " 308434.84,\n",
              " 288501.71,\n",
              " 313142.24,\n",
              " 276335.83,\n",
              " 278827.89,\n",
              " 264937.6,\n",
              " 283243.68,\n",
              " 276690.04,\n",
              " 280970.09,\n",
              " 286416.23,\n",
              " 282366.74,\n",
              " 259102.26,\n",
              " 277181.77,\n",
              " 294614.41,\n",
              " 277479.82,\n",
              " 276409.29,\n",
              " 267264.18,\n",
              " 253895.0,\n",
              " 253601.87,\n",
              " 253601.82,\n",
              " 252855.61,\n",
              " 298883.5,\n",
              " 253601.86,\n",
              " 254289.46,\n",
              " 276460.27,\n",
              " 248065.1,\n",
              " 252762.38,\n",
              " 262492.78,\n",
              " 273164.65,\n",
              " 247488.06,\n",
              " 272205.64,\n",
              " 257250.8,\n",
              " 255371.83,\n",
              " 258857.14,\n",
              " 260541.53,\n",
              " 264966.06,\n",
              " 259759.77,\n",
              " 257870.4,\n",
              " 258459.41,\n",
              " 252221.06,\n",
              " 263367.28,\n",
              " 246048.54,\n",
              " 245329.53,\n",
              " 253971.65,\n",
              " 247139.67,\n",
              " 266450.61,\n",
              " 266203.05,\n",
              " 255352.96,\n",
              " 259457.67,\n",
              " 245135.27,\n",
              " 243476.75,\n",
              " 251196.6,\n",
              " 254892.12,\n",
              " 246420.51,\n",
              " 266423.0,\n",
              " 247094.16,\n",
              " 257224.71,\n",
              " 268218.79,\n",
              " 249967.79,\n",
              " 262690.08,\n",
              " 252673.72,\n",
              " 235671.55,\n",
              " 234738.18,\n",
              " 234775.53,\n",
              " 256392.38,\n",
              " 244794.12,\n",
              " 243763.47,\n",
              " 265122.52,\n",
              " 250783.4,\n",
              " 242136.08,\n",
              " 255763.3,\n",
              " 250362.53,\n",
              " 250011.46,\n",
              " 257968.35,\n",
              " 262317.85,\n",
              " 243855.39,\n",
              " 231739.64,\n",
              " 240800.15,\n",
              " 253002.86,\n",
              " 230880.96,\n",
              " 239136.48,\n",
              " 247257.59,\n",
              " 252496.26,\n",
              " 250706.99,\n",
              " 241378.64,\n",
              " 241231.48,\n",
              " 237827.2,\n",
              " 239753.79,\n",
              " 238498.67,\n",
              " 237350.98,\n",
              " 251248.55,\n",
              " 245779.24,\n",
              " 245992.58,\n",
              " 228243.61,\n",
              " 238564.23,\n",
              " 227406.42,\n",
              " 240696.62,\n",
              " 251902.26,\n",
              " 236573.12,\n",
              " 226470.01,\n",
              " 247009.63,\n",
              " 230233.44,\n",
              " 232896.01,\n",
              " 241056.43,\n",
              " 243147.59,\n",
              " 245091.04,\n",
              " 236670.54,\n",
              " 241126.97,\n",
              " 234462.06,\n",
              " 246276.24,\n",
              " 239012.69,\n",
              " 234277.14,\n",
              " 233371.06,\n",
              " 231423.96,\n",
              " 243642.31,\n",
              " 237943.35,\n",
              " 231978.1,\n",
              " 232641.05,\n",
              " 229953.61,\n",
              " 229120.34,\n",
              " 239879.13,\n",
              " 232985.02,\n",
              " 233609.7,\n",
              " 237801.69,\n",
              " 228881.97,\n",
              " 239747.73,\n",
              " 229345.1,\n",
              " 232198.89,\n",
              " 244886.86,\n",
              " 228191.57,\n",
              " 227707.72,\n",
              " 239688.21,\n",
              " 227240.15,\n",
              " 242077.49,\n",
              " 231747.83,\n",
              " 226927.41,\n",
              " 229592.17,\n",
              " 229204.97,\n",
              " 226595.62,\n",
              " 228284.02,\n",
              " 227197.53,\n",
              " 232398.07,\n",
              " 236586.99,\n",
              " 238224.62,\n",
              " 233314.41,\n",
              " 237967.54,\n",
              " 234682.05,\n",
              " 235899.64,\n",
              " 234945.45,\n",
              " 235347.75,\n",
              " 233506.48,\n",
              " 235807.01,\n",
              " 227100.13,\n",
              " 233799.54,\n",
              " 251779.01,\n",
              " 234680.35,\n",
              " 257900.42,\n",
              " 231261.54,\n",
              " 229636.5,\n",
              " 235842.01,\n",
              " 228840.27,\n",
              " 236382.15,\n",
              " 231707.54,\n",
              " 228548.48,\n",
              " 235086.67,\n",
              " 233030.17,\n",
              " 230165.86,\n",
              " 243129.13,\n",
              " 233109.6,\n",
              " 234419.0,\n",
              " 229594.66,\n",
              " 232232.55,\n",
              " 230470.18,\n",
              " 229890.84,\n",
              " 227647.1,\n",
              " 233713.78,\n",
              " 229216.66,\n",
              " 232898.13,\n",
              " 231933.13,\n",
              " 227783.08,\n",
              " 229254.61,\n",
              " 232133.05,\n",
              " 227832.19,\n",
              " 227932.57,\n",
              " 227556.89,\n",
              " 226550.94,\n",
              " 230961.63,\n",
              " 230195.54,\n",
              " 226370.81,\n",
              " 227369.34,\n",
              " 228272.01,\n",
              " 226321.26,\n",
              " 227317.29,\n",
              " 228799.16,\n",
              " 229785.1,\n",
              " 228595.14,\n",
              " 228006.37,\n",
              " 247357.56,\n",
              " 226332.08,\n",
              " 227659.32,\n",
              " 227809.04,\n",
              " 226950.38,\n",
              " 229770.04,\n",
              " 227062.28,\n",
              " 230526.18,\n",
              " 237663.06,\n",
              " 235655.66,\n",
              " 235966.15,\n",
              " 236025.81,\n",
              " 471952.64,\n",
              " 390111.98,\n",
              " 339653.7,\n",
              " 326716.76,\n",
              " 326233.44,\n",
              " 344187.46,\n",
              " 311298.55,\n",
              " 310161.02,\n",
              " 335484.96,\n",
              " 329390.54,\n",
              " 294000.18,\n",
              " 311650.36,\n",
              " 322143.1,\n",
              " 287489.84,\n",
              " 307099.61,\n",
              " 306117.53,\n",
              " 282619.96,\n",
              " 283661.73,\n",
              " 282003.76,\n",
              " 281537.17,\n",
              " 295894.31,\n",
              " 274824.1,\n",
              " 274824.08,\n",
              " 289247.63,\n",
              " 284695.1,\n",
              " 271863.53,\n",
              " 268946.02,\n",
              " 267914.01,\n",
              " 267914.0,\n",
              " 267914.0,\n",
              " 267914.0,\n",
              " 276317.84,\n",
              " 265865.64,\n",
              " 279764.49,\n",
              " 277886.28,\n",
              " 276823.46,\n",
              " 258570.98,\n",
              " 254578.48,\n",
              " 259564.18,\n",
              " 271490.89,\n",
              " 252149.01,\n",
              " 258676.54,\n",
              " 266485.27,\n",
              " 287479.58,\n",
              " 264437.6,\n",
              " 249505.88,\n",
              " 285329.47,\n",
              " 262497.35,\n",
              " 252813.85,\n",
              " 260595.11,\n",
              " 243005.0,\n",
              " 276495.41,\n",
              " 280664.38,\n",
              " 244209.18,\n",
              " 240008.92,\n",
              " 252487.83,\n",
              " 256741.67,\n",
              " 244516.29,\n",
              " 248767.06,\n",
              " 255066.89,\n",
              " 277581.77,\n",
              " 248616.04,\n",
              " 270408.27,\n",
              " 286436.35,\n",
              " 246766.53,\n",
              " 246928.4,\n",
              " 244898.19,\n",
              " 241390.9,\n",
              " 246203.71,\n",
              " 250479.36,\n",
              " 244209.17,\n",
              " 235462.09,\n",
              " 242870.21,\n",
              " 249025.21,\n",
              " 247285.83,\n",
              " 242870.2,\n",
              " 232489.33,\n",
              " 260943.62,\n",
              " 231523.83,\n",
              " 257051.52,\n",
              " 245664.41,\n",
              " 243398.56,\n",
              " 231435.01,\n",
              " 235919.95,\n",
              " 242967.98,\n",
              " 239700.33,\n",
              " 267902.74,\n",
              " 254919.54,\n",
              " 235275.6,\n",
              " 238598.6,\n",
              " 228566.89,\n",
              " 239744.98,\n",
              " 227992.03,\n",
              " 237489.08,\n",
              " 253736.41,\n",
              " 236721.3,\n",
              " 246470.66,\n",
              " 244803.51,\n",
              " 226832.02,\n",
              " 246770.38,\n",
              " 234399.5,\n",
              " 238110.12,\n",
              " 236292.99,\n",
              " 236865.23,\n",
              " 236794.75,\n",
              " 237672.7,\n",
              " 234097.74,\n",
              " 244821.22,\n",
              " 252066.66,\n",
              " 235300.59,\n",
              " 239559.82,\n",
              " 232087.88,\n",
              " 235920.65,\n",
              " 247614.88,\n",
              " 242479.49,\n",
              " 241984.28,\n",
              " 255122.55,\n",
              " 239635.47,\n",
              " 246243.01,\n",
              " 244429.63,\n",
              " 233269.15,\n",
              " 229163.7,\n",
              " 231623.12,\n",
              " 244444.58,\n",
              " 231508.64,\n",
              " 239699.01,\n",
              " 229212.01,\n",
              " 229970.11,\n",
              " 245245.54,\n",
              " 231447.44,\n",
              " 243349.9,\n",
              " 227370.0,\n",
              " 229865.98,\n",
              " 238682.81,\n",
              " 242028.08,\n",
              " 250764.87,\n",
              " 233612.54,\n",
              " 227292.8,\n",
              " 235192.92,\n",
              " 231677.42,\n",
              " 240040.46,\n",
              " 227017.27,\n",
              " 230535.75,\n",
              " 234800.59,\n",
              " 234568.41,\n",
              " 236402.85,\n",
              " 239023.1,\n",
              " 231192.23,\n",
              " 240947.51,\n",
              " 235176.77,\n",
              " 229451.31,\n",
              " 232481.72,\n",
              " 240766.21,\n",
              " 228427.07,\n",
              " 227400.67,\n",
              " 233802.24,\n",
              " 232071.18,\n",
              " 229436.02,\n",
              " 234934.78,\n",
              " 229246.6,\n",
              " 232755.39,\n",
              " 234575.11,\n",
              " 228875.74,\n",
              " 229647.76,\n",
              " 228693.72,\n",
              " 228584.94,\n",
              " 228224.14,\n",
              " 229217.11,\n",
              " 226486.74,\n",
              " 230371.75,\n",
              " 228505.95,\n",
              " 228146.19,\n",
              " 226825.63,\n",
              " 232277.63,\n",
              " 228401.92,\n",
              " 233158.83,\n",
              " 235345.23]"
            ]
          },
          "metadata": {
            "tags": []
          },
          "execution_count": 150
        }
      ]
    },
    {
      "cell_type": "markdown",
      "metadata": {
        "id": "EwGZcSZoSryX"
      },
      "source": [
        "##Exporting our data"
      ]
    },
    {
      "cell_type": "code",
      "metadata": {
        "id": "eQibcUCsSuAd"
      },
      "source": [
        "#we export the data to be used by every team member for analysis\n",
        "df.to_csv('SF_Salary.csv')"
      ],
      "execution_count": null,
      "outputs": []
    },
    {
      "cell_type": "markdown",
      "metadata": {
        "id": "NG6la-gQBxo7"
      },
      "source": [
        "#Data analysis"
      ]
    },
    {
      "cell_type": "markdown",
      "metadata": {
        "id": "-8jDNKBxCVJ7"
      },
      "source": [
        "###Importing libraries and dataset"
      ]
    },
    {
      "cell_type": "code",
      "metadata": {
        "id": "dadSDz7kBi4U"
      },
      "source": [
        "#Importing our libraries pandas and numpy\n",
        "import pandas as pd\n",
        "\n",
        "import numpy as np\n"
      ],
      "execution_count": null,
      "outputs": []
    },
    {
      "cell_type": "code",
      "metadata": {
        "colab": {
          "base_uri": "https://localhost:8080/",
          "height": 314
        },
        "id": "qsXmdCqgCi8h",
        "outputId": "94fef9f2-e4f7-45f5-e412-9c6173aee23a"
      },
      "source": [
        "#Importing our csv file\n",
        "df = pd.read_csv(\"SF_Salary.csv\")\n",
        "#Getting a preview with 3 rows\n",
        "df.head(3)\n",
        "\n"
      ],
      "execution_count": null,
      "outputs": [
        {
          "output_type": "execute_result",
          "data": {
            "text/html": [
              "<div>\n",
              "<style scoped>\n",
              "    .dataframe tbody tr th:only-of-type {\n",
              "        vertical-align: middle;\n",
              "    }\n",
              "\n",
              "    .dataframe tbody tr th {\n",
              "        vertical-align: top;\n",
              "    }\n",
              "\n",
              "    .dataframe thead th {\n",
              "        text-align: right;\n",
              "    }\n",
              "</style>\n",
              "<table border=\"1\" class=\"dataframe\">\n",
              "  <thead>\n",
              "    <tr style=\"text-align: right;\">\n",
              "      <th></th>\n",
              "      <th>Unnamed: 0</th>\n",
              "      <th>EmployeeName</th>\n",
              "      <th>JobTitle</th>\n",
              "      <th>BasePay</th>\n",
              "      <th>OvertimePay</th>\n",
              "      <th>OtherPay</th>\n",
              "      <th>Benefits</th>\n",
              "      <th>TotalPay</th>\n",
              "      <th>TotalPayBenefits</th>\n",
              "      <th>Year</th>\n",
              "      <th>Agency</th>\n",
              "      <th>Gender</th>\n",
              "      <th>Pay</th>\n",
              "    </tr>\n",
              "  </thead>\n",
              "  <tbody>\n",
              "    <tr>\n",
              "      <th>0</th>\n",
              "      <td>0</td>\n",
              "      <td>nathaniel ford</td>\n",
              "      <td>general manager-metropolitan transit authority</td>\n",
              "      <td>167411.18</td>\n",
              "      <td>0.00</td>\n",
              "      <td>400184.25</td>\n",
              "      <td>0.0</td>\n",
              "      <td>567595.43</td>\n",
              "      <td>567595.43</td>\n",
              "      <td>2011</td>\n",
              "      <td>San Francisco</td>\n",
              "      <td>m</td>\n",
              "      <td>567595.43</td>\n",
              "    </tr>\n",
              "    <tr>\n",
              "      <th>1</th>\n",
              "      <td>1</td>\n",
              "      <td>gary jimenez</td>\n",
              "      <td>captain iii (police department)</td>\n",
              "      <td>155966.02</td>\n",
              "      <td>245131.88</td>\n",
              "      <td>137811.38</td>\n",
              "      <td>0.0</td>\n",
              "      <td>538909.28</td>\n",
              "      <td>538909.28</td>\n",
              "      <td>2011</td>\n",
              "      <td>San Francisco</td>\n",
              "      <td>m</td>\n",
              "      <td>538909.28</td>\n",
              "    </tr>\n",
              "    <tr>\n",
              "      <th>2</th>\n",
              "      <td>2</td>\n",
              "      <td>albert pardini</td>\n",
              "      <td>captain iii (police department)</td>\n",
              "      <td>212739.13</td>\n",
              "      <td>106088.18</td>\n",
              "      <td>16452.60</td>\n",
              "      <td>0.0</td>\n",
              "      <td>335279.91</td>\n",
              "      <td>335279.91</td>\n",
              "      <td>2011</td>\n",
              "      <td>San Francisco</td>\n",
              "      <td>m</td>\n",
              "      <td>335279.91</td>\n",
              "    </tr>\n",
              "  </tbody>\n",
              "</table>\n",
              "</div>"
            ],
            "text/plain": [
              "   Unnamed: 0    EmployeeName  ... Gender        Pay\n",
              "0           0  nathaniel ford  ...      m  567595.43\n",
              "1           1    gary jimenez  ...      m  538909.28\n",
              "2           2  albert pardini  ...      m  335279.91\n",
              "\n",
              "[3 rows x 13 columns]"
            ]
          },
          "metadata": {
            "tags": []
          },
          "execution_count": 153
        }
      ]
    },
    {
      "cell_type": "code",
      "metadata": {
        "id": "uhUCToxFE61b"
      },
      "source": [
        "#Deleting the unnamed column\n",
        "del df[\"Unnamed: 0\"]\n"
      ],
      "execution_count": null,
      "outputs": []
    },
    {
      "cell_type": "markdown",
      "metadata": {
        "id": "aQMq4skrCxev"
      },
      "source": [
        "##Highest paid employees"
      ]
    },
    {
      "cell_type": "code",
      "metadata": {
        "colab": {
          "base_uri": "https://localhost:8080/"
        },
        "id": "nFWLZf1YDKPc",
        "outputId": "f33fe2a8-2fb5-428d-a343-74cae21b259e"
      },
      "source": [
        "#Highest paid employees with their salaries\n",
        "#In this case we grouped by employee name\n",
        "#We then we got the max pay of the employees to get the name and salary\n",
        "df.groupby(\"EmployeeName\").Pay.max().nlargest(5)"
      ],
      "execution_count": null,
      "outputs": [
        {
          "output_type": "execute_result",
          "data": {
            "text/plain": [
              "EmployeeName\n",
              "nathaniel ford    567595.43\n",
              "gary jimenez      538909.28\n",
              "david shinn       510732.68\n",
              "amy p             479652.21\n",
              "william j         436224.36\n",
              "Name: Pay, dtype: float64"
            ]
          },
          "metadata": {
            "tags": []
          },
          "execution_count": 155
        }
      ]
    },
    {
      "cell_type": "markdown",
      "metadata": {
        "id": "RoE2A9wzAwyH"
      },
      "source": [
        "###Highest paid females"
      ]
    },
    {
      "cell_type": "code",
      "metadata": {
        "id": "puHVhvsiJvdz",
        "colab": {
          "base_uri": "https://localhost:8080/"
        },
        "outputId": "357ec9fe-484b-48d1-ab21-f00358e63213"
      },
      "source": [
        "#Highest paid females\n",
        "df[(df.Gender ==\"f\")].groupby(\"EmployeeName\").Pay.max().nlargest(5)"
      ],
      "execution_count": null,
      "outputs": [
        {
          "output_type": "execute_result",
          "data": {
            "text/plain": [
              "EmployeeName\n",
              "amy p                 479652.21\n",
              "joanne m              422353.40\n",
              "ellen g               415767.94\n",
              "joanne hayes-white    386807.48\n",
              "amy hart              376071.59\n",
              "Name: Pay, dtype: float64"
            ]
          },
          "metadata": {
            "tags": []
          },
          "execution_count": 156
        }
      ]
    },
    {
      "cell_type": "markdown",
      "metadata": {
        "id": "xDktD3EIAmmH"
      },
      "source": [
        "###Highest paid males"
      ]
    },
    {
      "cell_type": "code",
      "metadata": {
        "colab": {
          "base_uri": "https://localhost:8080/"
        },
        "id": "ASDbbkgSCM3b",
        "outputId": "c1e16014-5953-4942-ec2c-8ea70f5e6815"
      },
      "source": [
        "#Highest paid males\n",
        "df[(df.Gender ==\"m\")].groupby(\"EmployeeName\").Pay.max().nlargest(5)\n"
      ],
      "execution_count": null,
      "outputs": [
        {
          "output_type": "execute_result",
          "data": {
            "text/plain": [
              "EmployeeName\n",
              "nathaniel ford    567595.43\n",
              "gary jimenez      538909.28\n",
              "david shinn       510732.68\n",
              "william j         436224.36\n",
              "gregory p         425815.28\n",
              "Name: Pay, dtype: float64"
            ]
          },
          "metadata": {
            "tags": []
          },
          "execution_count": 157
        }
      ]
    },
    {
      "cell_type": "markdown",
      "metadata": {
        "id": "5itDlgirFRR4"
      },
      "source": [
        "##The mean benefits paid"
      ]
    },
    {
      "cell_type": "code",
      "metadata": {
        "colab": {
          "base_uri": "https://localhost:8080/",
          "height": 35
        },
        "id": "XrQmMa_JFS8k",
        "outputId": "3d4d2ecd-4543-46fe-9768-267559e213f2"
      },
      "source": [
        "#The mean benefits paid\n",
        "#We got the mean for the benefits column using .mean() and assigned it to z\n",
        "#You can then use format then round to round the values to two decimal places\n",
        "z = df[\"Benefits\"].mean()\n",
        "format(round(z,2))"
      ],
      "execution_count": null,
      "outputs": [
        {
          "output_type": "execute_result",
          "data": {
            "application/vnd.google.colaboratory.intrinsic+json": {
              "type": "string"
            },
            "text/plain": [
              "'18926.87'"
            ]
          },
          "metadata": {
            "tags": []
          },
          "execution_count": 158
        }
      ]
    },
    {
      "cell_type": "markdown",
      "metadata": {
        "id": "qFs6csAGEGcF"
      },
      "source": [
        "###Mean benefits paid for males and females"
      ]
    },
    {
      "cell_type": "code",
      "metadata": {
        "colab": {
          "base_uri": "https://localhost:8080/",
          "height": 108
        },
        "id": "Q33HT_i7EO1r",
        "outputId": "59ed3dd3-0c70-492b-d1fe-27b2080e38c2"
      },
      "source": [
        "#Mean benefits paid for males and females \n",
        "#We can compare the benefits for males and females and the average\n",
        "#We grouped by gender then got the mean for the benefits \n",
        "df.groupby(\"Gender\",as_index=False).Benefits.mean()"
      ],
      "execution_count": null,
      "outputs": [
        {
          "output_type": "execute_result",
          "data": {
            "text/html": [
              "<div>\n",
              "<style scoped>\n",
              "    .dataframe tbody tr th:only-of-type {\n",
              "        vertical-align: middle;\n",
              "    }\n",
              "\n",
              "    .dataframe tbody tr th {\n",
              "        vertical-align: top;\n",
              "    }\n",
              "\n",
              "    .dataframe thead th {\n",
              "        text-align: right;\n",
              "    }\n",
              "</style>\n",
              "<table border=\"1\" class=\"dataframe\">\n",
              "  <thead>\n",
              "    <tr style=\"text-align: right;\">\n",
              "      <th></th>\n",
              "      <th>Gender</th>\n",
              "      <th>Benefits</th>\n",
              "    </tr>\n",
              "  </thead>\n",
              "  <tbody>\n",
              "    <tr>\n",
              "      <th>0</th>\n",
              "      <td>f</td>\n",
              "      <td>18022.397369</td>\n",
              "    </tr>\n",
              "    <tr>\n",
              "      <th>1</th>\n",
              "      <td>m</td>\n",
              "      <td>20301.137266</td>\n",
              "    </tr>\n",
              "  </tbody>\n",
              "</table>\n",
              "</div>"
            ],
            "text/plain": [
              "  Gender      Benefits\n",
              "0      f  18022.397369\n",
              "1      m  20301.137266"
            ]
          },
          "metadata": {
            "tags": []
          },
          "execution_count": 159
        }
      ]
    },
    {
      "cell_type": "markdown",
      "metadata": {
        "id": "bTPVI6xNGcUM"
      },
      "source": [
        "##Mean base pay"
      ]
    },
    {
      "cell_type": "code",
      "metadata": {
        "colab": {
          "base_uri": "https://localhost:8080/",
          "height": 35
        },
        "id": "8t29iQ4LGgkA",
        "outputId": "61444e16-0340-454c-84b0-226395070b3f"
      },
      "source": [
        "#Mean base pay\n",
        "#We got the mean for the base pay then we formatted it\n",
        "x = df[\"BasePay\"].mean()\n",
        "format(round(x,2))"
      ],
      "execution_count": null,
      "outputs": [
        {
          "output_type": "execute_result",
          "data": {
            "application/vnd.google.colaboratory.intrinsic+json": {
              "type": "string"
            },
            "text/plain": [
              "'66063.72'"
            ]
          },
          "metadata": {
            "tags": []
          },
          "execution_count": 160
        }
      ]
    },
    {
      "cell_type": "markdown",
      "metadata": {
        "id": "AiE68paXC6r9"
      },
      "source": [
        "###Mean base male and female pay"
      ]
    },
    {
      "cell_type": "code",
      "metadata": {
        "colab": {
          "base_uri": "https://localhost:8080/",
          "height": 108
        },
        "id": "4XaH83VhDAAk",
        "outputId": "75a478e9-6062-4614-c960-c37a81525983"
      },
      "source": [
        "#We grouped by gender then got the mean for the base pay\n",
        "df.groupby(\"Gender\",as_index=False).BasePay.mean()\n"
      ],
      "execution_count": null,
      "outputs": [
        {
          "output_type": "execute_result",
          "data": {
            "text/html": [
              "<div>\n",
              "<style scoped>\n",
              "    .dataframe tbody tr th:only-of-type {\n",
              "        vertical-align: middle;\n",
              "    }\n",
              "\n",
              "    .dataframe tbody tr th {\n",
              "        vertical-align: top;\n",
              "    }\n",
              "\n",
              "    .dataframe thead th {\n",
              "        text-align: right;\n",
              "    }\n",
              "</style>\n",
              "<table border=\"1\" class=\"dataframe\">\n",
              "  <thead>\n",
              "    <tr style=\"text-align: right;\">\n",
              "      <th></th>\n",
              "      <th>Gender</th>\n",
              "      <th>BasePay</th>\n",
              "    </tr>\n",
              "  </thead>\n",
              "  <tbody>\n",
              "    <tr>\n",
              "      <th>0</th>\n",
              "      <td>f</td>\n",
              "      <td>63052.231127</td>\n",
              "    </tr>\n",
              "    <tr>\n",
              "      <th>1</th>\n",
              "      <td>m</td>\n",
              "      <td>71740.294580</td>\n",
              "    </tr>\n",
              "  </tbody>\n",
              "</table>\n",
              "</div>"
            ],
            "text/plain": [
              "  Gender       BasePay\n",
              "0      f  63052.231127\n",
              "1      m  71740.294580"
            ]
          },
          "metadata": {
            "tags": []
          },
          "execution_count": 161
        }
      ]
    },
    {
      "cell_type": "markdown",
      "metadata": {
        "id": "fE0PXs5tGrYX"
      },
      "source": [
        "##Average pay per year for all employees"
      ]
    },
    {
      "cell_type": "code",
      "metadata": {
        "id": "bBxLT6gaGtbV",
        "colab": {
          "base_uri": "https://localhost:8080/",
          "height": 168
        },
        "outputId": "7874a0b2-8f5e-4a39-de44-f32604e1f9d1"
      },
      "source": [
        "#Average pay per year for all employees\n",
        "#We grouped by year then we got the mean pay for each year\n",
        "#In this case we used as_index false just to display in table form as opposed to normal\n",
        "df.groupby([\"Year\"],as_index=False).Pay.mean()\n",
        "\n",
        "\n"
      ],
      "execution_count": null,
      "outputs": [
        {
          "output_type": "execute_result",
          "data": {
            "text/html": [
              "<div>\n",
              "<style scoped>\n",
              "    .dataframe tbody tr th:only-of-type {\n",
              "        vertical-align: middle;\n",
              "    }\n",
              "\n",
              "    .dataframe tbody tr th {\n",
              "        vertical-align: top;\n",
              "    }\n",
              "\n",
              "    .dataframe thead th {\n",
              "        text-align: right;\n",
              "    }\n",
              "</style>\n",
              "<table border=\"1\" class=\"dataframe\">\n",
              "  <thead>\n",
              "    <tr style=\"text-align: right;\">\n",
              "      <th></th>\n",
              "      <th>Year</th>\n",
              "      <th>Pay</th>\n",
              "    </tr>\n",
              "  </thead>\n",
              "  <tbody>\n",
              "    <tr>\n",
              "      <th>0</th>\n",
              "      <td>2011</td>\n",
              "      <td>71744.103871</td>\n",
              "    </tr>\n",
              "    <tr>\n",
              "      <th>1</th>\n",
              "      <td>2012</td>\n",
              "      <td>100583.308465</td>\n",
              "    </tr>\n",
              "    <tr>\n",
              "      <th>2</th>\n",
              "      <td>2013</td>\n",
              "      <td>101452.870647</td>\n",
              "    </tr>\n",
              "    <tr>\n",
              "      <th>3</th>\n",
              "      <td>2014</td>\n",
              "      <td>100270.347720</td>\n",
              "    </tr>\n",
              "  </tbody>\n",
              "</table>\n",
              "</div>"
            ],
            "text/plain": [
              "   Year            Pay\n",
              "0  2011   71744.103871\n",
              "1  2012  100583.308465\n",
              "2  2013  101452.870647\n",
              "3  2014  100270.347720"
            ]
          },
          "metadata": {
            "tags": []
          },
          "execution_count": 162
        }
      ]
    },
    {
      "cell_type": "markdown",
      "metadata": {
        "id": "PrmupNn4H2pX"
      },
      "source": [
        "###Average pay per year for males"
      ]
    },
    {
      "cell_type": "code",
      "metadata": {
        "colab": {
          "base_uri": "https://localhost:8080/",
          "height": 168
        },
        "id": "3rUpeJf5HdJX",
        "outputId": "133f17b6-d364-401e-b829-00ebab9a13fc"
      },
      "source": [
        "#Average pay per year for males\n",
        "#We filtered to get only for males\n",
        "#We grouped by year then we got the mean pay for each year\n",
        "\n",
        "df[(df.Gender ==\"m\")].groupby([\"Year\"],as_index=False).Pay.mean()"
      ],
      "execution_count": null,
      "outputs": [
        {
          "output_type": "execute_result",
          "data": {
            "text/html": [
              "<div>\n",
              "<style scoped>\n",
              "    .dataframe tbody tr th:only-of-type {\n",
              "        vertical-align: middle;\n",
              "    }\n",
              "\n",
              "    .dataframe tbody tr th {\n",
              "        vertical-align: top;\n",
              "    }\n",
              "\n",
              "    .dataframe thead th {\n",
              "        text-align: right;\n",
              "    }\n",
              "</style>\n",
              "<table border=\"1\" class=\"dataframe\">\n",
              "  <thead>\n",
              "    <tr style=\"text-align: right;\">\n",
              "      <th></th>\n",
              "      <th>Year</th>\n",
              "      <th>Pay</th>\n",
              "    </tr>\n",
              "  </thead>\n",
              "  <tbody>\n",
              "    <tr>\n",
              "      <th>0</th>\n",
              "      <td>2011</td>\n",
              "      <td>81231.989677</td>\n",
              "    </tr>\n",
              "    <tr>\n",
              "      <th>1</th>\n",
              "      <td>2012</td>\n",
              "      <td>111840.148792</td>\n",
              "    </tr>\n",
              "    <tr>\n",
              "      <th>2</th>\n",
              "      <td>2013</td>\n",
              "      <td>112517.000832</td>\n",
              "    </tr>\n",
              "    <tr>\n",
              "      <th>3</th>\n",
              "      <td>2014</td>\n",
              "      <td>111040.083618</td>\n",
              "    </tr>\n",
              "  </tbody>\n",
              "</table>\n",
              "</div>"
            ],
            "text/plain": [
              "   Year            Pay\n",
              "0  2011   81231.989677\n",
              "1  2012  111840.148792\n",
              "2  2013  112517.000832\n",
              "3  2014  111040.083618"
            ]
          },
          "metadata": {
            "tags": []
          },
          "execution_count": 163
        }
      ]
    },
    {
      "cell_type": "markdown",
      "metadata": {
        "id": "kTGbR_6BH9Ht"
      },
      "source": [
        "###Average pay per year for females"
      ]
    },
    {
      "cell_type": "code",
      "metadata": {
        "colab": {
          "base_uri": "https://localhost:8080/",
          "height": 168
        },
        "id": "YSXIrDi6HtLD",
        "outputId": "8fcb007c-8048-420a-fd7c-c67c6b8cac30"
      },
      "source": [
        "#Average pay per year for males\n",
        "#We filtered to get only for males\n",
        "#We grouped by year then we got the mean pay for each year\n",
        "\n",
        "df[(df.Gender ==\"f\")].groupby([\"Year\"],as_index=False).Pay.mean()"
      ],
      "execution_count": null,
      "outputs": [
        {
          "output_type": "execute_result",
          "data": {
            "text/html": [
              "<div>\n",
              "<style scoped>\n",
              "    .dataframe tbody tr th:only-of-type {\n",
              "        vertical-align: middle;\n",
              "    }\n",
              "\n",
              "    .dataframe tbody tr th {\n",
              "        vertical-align: top;\n",
              "    }\n",
              "\n",
              "    .dataframe thead th {\n",
              "        text-align: right;\n",
              "    }\n",
              "</style>\n",
              "<table border=\"1\" class=\"dataframe\">\n",
              "  <thead>\n",
              "    <tr style=\"text-align: right;\">\n",
              "      <th></th>\n",
              "      <th>Year</th>\n",
              "      <th>Pay</th>\n",
              "    </tr>\n",
              "  </thead>\n",
              "  <tbody>\n",
              "    <tr>\n",
              "      <th>0</th>\n",
              "      <td>2011</td>\n",
              "      <td>64448.267951</td>\n",
              "    </tr>\n",
              "    <tr>\n",
              "      <th>1</th>\n",
              "      <td>2012</td>\n",
              "      <td>92325.481812</td>\n",
              "    </tr>\n",
              "    <tr>\n",
              "      <th>2</th>\n",
              "      <td>2013</td>\n",
              "      <td>94429.594821</td>\n",
              "    </tr>\n",
              "    <tr>\n",
              "      <th>3</th>\n",
              "      <td>2014</td>\n",
              "      <td>93700.354304</td>\n",
              "    </tr>\n",
              "  </tbody>\n",
              "</table>\n",
              "</div>"
            ],
            "text/plain": [
              "   Year           Pay\n",
              "0  2011  64448.267951\n",
              "1  2012  92325.481812\n",
              "2  2013  94429.594821\n",
              "3  2014  93700.354304"
            ]
          },
          "metadata": {
            "tags": []
          },
          "execution_count": 164
        }
      ]
    },
    {
      "cell_type": "markdown",
      "metadata": {
        "id": "uSpnbrZjIMgP"
      },
      "source": [
        "##Average female and male pay"
      ]
    },
    {
      "cell_type": "code",
      "metadata": {
        "colab": {
          "base_uri": "https://localhost:8080/",
          "height": 108
        },
        "id": "63TQ8oq8IQO9",
        "outputId": "2d68fc27-53f9-4853-b7e9-1782710cc3c8"
      },
      "source": [
        "#Average male pay\n",
        "#We grouped by gender then got the mean pay\n",
        "df.groupby([\"Gender\"],as_index=False).Pay.mean()"
      ],
      "execution_count": null,
      "outputs": [
        {
          "output_type": "execute_result",
          "data": {
            "text/html": [
              "<div>\n",
              "<style scoped>\n",
              "    .dataframe tbody tr th:only-of-type {\n",
              "        vertical-align: middle;\n",
              "    }\n",
              "\n",
              "    .dataframe tbody tr th {\n",
              "        vertical-align: top;\n",
              "    }\n",
              "\n",
              "    .dataframe thead th {\n",
              "        text-align: right;\n",
              "    }\n",
              "</style>\n",
              "<table border=\"1\" class=\"dataframe\">\n",
              "  <thead>\n",
              "    <tr style=\"text-align: right;\">\n",
              "      <th></th>\n",
              "      <th>Gender</th>\n",
              "      <th>Pay</th>\n",
              "    </tr>\n",
              "  </thead>\n",
              "  <tbody>\n",
              "    <tr>\n",
              "      <th>0</th>\n",
              "      <td>f</td>\n",
              "      <td>86475.670283</td>\n",
              "    </tr>\n",
              "    <tr>\n",
              "      <th>1</th>\n",
              "      <td>m</td>\n",
              "      <td>104254.643859</td>\n",
              "    </tr>\n",
              "  </tbody>\n",
              "</table>\n",
              "</div>"
            ],
            "text/plain": [
              "  Gender            Pay\n",
              "0      f   86475.670283\n",
              "1      m  104254.643859"
            ]
          },
          "metadata": {
            "tags": []
          },
          "execution_count": 165
        }
      ]
    },
    {
      "cell_type": "code",
      "metadata": {
        "colab": {
          "base_uri": "https://localhost:8080/"
        },
        "id": "MdYkRibUXVQo",
        "outputId": "f1486f80-fb96-4ff0-f7dc-1aa6f9874ca1"
      },
      "source": [
        "#We got the average male and female pay and assigned them a value\n",
        "#We then got the average pay and assigned it a value\n",
        "#We got the difference between the average pay and the average male and female pay\n",
        "#We then made a comparison\n",
        "#In the data report more comparisons are made\n",
        "x = df[(df.Gender == \"m\")].Pay.mean()\n",
        "y = df[(df.Gender == \"f\")].Pay.mean()\n",
        "z = df.Pay.mean()\n",
        "print(\"Men get \"+str(x-z)+\" more than the mean\")\n",
        "print(\"Women get \"+str(z-y)+\" less than the mean\")\n"
      ],
      "execution_count": null,
      "outputs": [
        {
          "output_type": "stream",
          "text": [
            "Men get 10547.873606587047 more than the mean\n",
            "Women get 7231.099969851784 less than the mean\n"
          ],
          "name": "stdout"
        }
      ]
    },
    {
      "cell_type": "markdown",
      "metadata": {
        "id": "gcxQ0y6nLLKO"
      },
      "source": [
        "##Top 5 highest earning jobs"
      ]
    },
    {
      "cell_type": "code",
      "metadata": {
        "colab": {
          "base_uri": "https://localhost:8080/"
        },
        "id": "-MJDBtwKNIWj",
        "outputId": "2caae9bf-d08b-49bf-e342-3d0244900d84"
      },
      "source": [
        "#Top 5 earning jobs\n",
        "#We grouped by job title. Then we got the mean pay\n",
        "#We used nlargest then narrowed it to the top 5 \n",
        "\n",
        "df.groupby(\"JobTitle\").Pay.mean().nlargest(5)\n"
      ],
      "execution_count": null,
      "outputs": [
        {
          "output_type": "execute_result",
          "data": {
            "text/plain": [
              "JobTitle\n",
              "chief investment officer                          436224.360000\n",
              "chief, fire department                            408865.326667\n",
              "general manager-metropolitan transit authority    399211.275000\n",
              "gen mgr, public trnsp dept                        380696.440000\n",
              "chief of police                                   375797.347500\n",
              "Name: Pay, dtype: float64"
            ]
          },
          "metadata": {
            "tags": []
          },
          "execution_count": 167
        }
      ]
    },
    {
      "cell_type": "markdown",
      "metadata": {
        "id": "mCpdPus25RTp"
      },
      "source": [
        "###Top 5 highest earning jobs for men"
      ]
    },
    {
      "cell_type": "code",
      "metadata": {
        "colab": {
          "base_uri": "https://localhost:8080/"
        },
        "id": "ODS-eTehLb0k",
        "outputId": "93fb4d42-ca19-4e17-86ee-d700a2e1d4bd"
      },
      "source": [
        "#Top 5 highest earning jobs for males\n",
        "#We filtered gender to males\n",
        "#We grouped by jobtitle then got the mean pay for each jobtitle\n",
        "#We used nlargest and narrowed it to the top 5\n",
        "\n",
        "df[(df.Gender==\"m\")].groupby(\"JobTitle\").Pay.mean().nlargest(5)"
      ],
      "execution_count": null,
      "outputs": [
        {
          "output_type": "execute_result",
          "data": {
            "text/plain": [
              "JobTitle\n",
              "chief investment officer                          436224.3600\n",
              "general manager-metropolitan transit authority    399211.2750\n",
              "gen mgr, public trnsp dept                        380696.4400\n",
              "chief of police                                   375797.3475\n",
              "dep chf of dept (fire dept)                       362562.2200\n",
              "Name: Pay, dtype: float64"
            ]
          },
          "metadata": {
            "tags": []
          },
          "execution_count": 168
        }
      ]
    },
    {
      "cell_type": "markdown",
      "metadata": {
        "id": "omZEjH3g5Zjg"
      },
      "source": [
        "###Top 5 highest earning jobs for females"
      ]
    },
    {
      "cell_type": "code",
      "metadata": {
        "colab": {
          "base_uri": "https://localhost:8080/"
        },
        "id": "9-hZmVET5dat",
        "outputId": "4218dff2-465f-4b52-cd65-7df27ce6b657"
      },
      "source": [
        "#Top 5 highest earning jobs for females\n",
        "#We filtered gender to females\n",
        "#We grouped by jobtitle then got the mean pay for each jobtitle\n",
        "#We used nlargest and narrowed it to the top 5\n",
        "\n",
        "df[(df.Gender==\"f\")].groupby(\"JobTitle\").Pay.mean().nlargest(5)"
      ],
      "execution_count": null,
      "outputs": [
        {
          "output_type": "execute_result",
          "data": {
            "text/plain": [
              "JobTitle\n",
              "chief, fire department      408865.326667\n",
              "assistant deputy chief 2    362306.210000\n",
              "asst med examiner           352683.254286\n",
              "dept head v                 349221.598182\n",
              "adm, sfgh medical center    347079.706667\n",
              "Name: Pay, dtype: float64"
            ]
          },
          "metadata": {
            "tags": []
          },
          "execution_count": 169
        }
      ]
    },
    {
      "cell_type": "markdown",
      "metadata": {
        "id": "jbXYlbQ0Nry8"
      },
      "source": [
        "##Top 5 most popular jobs"
      ]
    },
    {
      "cell_type": "code",
      "metadata": {
        "colab": {
          "base_uri": "https://localhost:8080/"
        },
        "id": "6ZR19toGNxuG",
        "outputId": "f794b3d9-8aad-4b90-9e19-dc2e6d371f40"
      },
      "source": [
        "#Top 5 most popular jobs\n",
        "#We got the job title then used value count to count the values\n",
        "#Then used nlargest to get the top 5\n",
        "df.JobTitle.value_counts().nlargest(5)\n",
        "\n"
      ],
      "execution_count": null,
      "outputs": [
        {
          "output_type": "execute_result",
          "data": {
            "text/plain": [
              "transit operator    9424\n",
              "special nurse       5790\n",
              "registered nurse    4955\n",
              "custodian           3214\n",
              "firefighter         3153\n",
              "Name: JobTitle, dtype: int64"
            ]
          },
          "metadata": {
            "tags": []
          },
          "execution_count": 170
        }
      ]
    },
    {
      "cell_type": "markdown",
      "metadata": {
        "id": "UMgFELDj6u9H"
      },
      "source": [
        "###Top 5 most popular male jobs"
      ]
    },
    {
      "cell_type": "code",
      "metadata": {
        "colab": {
          "base_uri": "https://localhost:8080/"
        },
        "id": "S6e1zBYcQmkC",
        "outputId": "262576d3-c134-4cc8-8243-4a4af29bc3ee"
      },
      "source": [
        "#Top 5 most popular male jobs\n",
        "#We filtered gender to male\n",
        "#We got the job title column then used value count to count the number of values which are equal\n",
        "#We used nlargest to get the top 5 \n",
        "\n",
        "df[(df.Gender==\"m\")].JobTitle.value_counts().nlargest(5)"
      ],
      "execution_count": null,
      "outputs": [
        {
          "output_type": "execute_result",
          "data": {
            "text/plain": [
              "transit operator                5591\n",
              "firefighter                     2346\n",
              "deputy sheriff                  1888\n",
              "police officer 3                1821\n",
              "public svc aide-public works    1262\n",
              "Name: JobTitle, dtype: int64"
            ]
          },
          "metadata": {
            "tags": []
          },
          "execution_count": 171
        }
      ]
    },
    {
      "cell_type": "markdown",
      "metadata": {
        "id": "60svjXkd63c3"
      },
      "source": [
        "###Top 5 most popular female jobs"
      ]
    },
    {
      "cell_type": "code",
      "metadata": {
        "colab": {
          "base_uri": "https://localhost:8080/"
        },
        "id": "142ABBiyRDxC",
        "outputId": "8360322a-87ee-450c-8d9f-fc75408d0e59"
      },
      "source": [
        "#Top 5 most popular female jobs\n",
        "#We filtered gender to male\n",
        "#We got the job title column then used value count to count the number of values which are equal\n",
        "#We used nlargest to get the top 5 \n",
        "\n",
        "df[(df.Gender==\"f\")].JobTitle.value_counts().nlargest(5)"
      ],
      "execution_count": null,
      "outputs": [
        {
          "output_type": "execute_result",
          "data": {
            "text/plain": [
              "special nurse                3108\n",
              "registered nurse             2592\n",
              "transit operator             1876\n",
              "recreation leader            1041\n",
              "attorney (civil/criminal)     755\n",
              "Name: JobTitle, dtype: int64"
            ]
          },
          "metadata": {
            "tags": []
          },
          "execution_count": 172
        }
      ]
    },
    {
      "cell_type": "markdown",
      "metadata": {
        "id": "3okcg7TUVxF2"
      },
      "source": [
        "##Comparison between average male pay and average female pay."
      ]
    },
    {
      "cell_type": "code",
      "metadata": {
        "colab": {
          "base_uri": "https://localhost:8080/"
        },
        "id": "T1YLHuepV5OB",
        "outputId": "98b82cb0-1690-4abc-a9d6-d18ff3b846d6"
      },
      "source": [
        "#Comparison between average male pay and average female pay.\n",
        "#The female earnings as compared to male earnings in percentage\n",
        "\n",
        "#We filtered gender to male then got the mean pay and assigned it to x\n",
        "x = df[(df.Gender == \"m\")].Pay.mean()\n",
        "#We filtered gender to female then got the mean pay and assigned to y\n",
        "y = df[(df.Gender == \"f\")].Pay.mean()\n",
        "\n",
        "(y/x)*100"
      ],
      "execution_count": null,
      "outputs": [
        {
          "output_type": "execute_result",
          "data": {
            "text/plain": [
              "82.94658835490928"
            ]
          },
          "metadata": {
            "tags": []
          },
          "execution_count": 173
        }
      ]
    },
    {
      "cell_type": "markdown",
      "metadata": {
        "id": "2EoO1di9Y3Gu"
      },
      "source": [
        "##People with salaries above average"
      ]
    },
    {
      "cell_type": "code",
      "metadata": {
        "id": "IoH23d7re8xs",
        "colab": {
          "base_uri": "https://localhost:8080/"
        },
        "outputId": "1697a8ab-18a8-4f99-fb65-9b8e5bde338b"
      },
      "source": [
        "#The total number of people with salaries above average\n",
        "#We got the people with pay above mean pay\n",
        "#In this case we used length to count the cells\n",
        "len(df[df.Pay > df.Pay.mean()])"
      ],
      "execution_count": null,
      "outputs": [
        {
          "output_type": "execute_result",
          "data": {
            "text/plain": [
              "72991"
            ]
          },
          "metadata": {
            "tags": []
          },
          "execution_count": 174
        }
      ]
    },
    {
      "cell_type": "markdown",
      "metadata": {
        "id": "_8UZUTNx86NJ"
      },
      "source": [
        "###Males with salary above average"
      ]
    },
    {
      "cell_type": "code",
      "metadata": {
        "id": "XwvSfWhJez5Q",
        "colab": {
          "base_uri": "https://localhost:8080/"
        },
        "outputId": "37057e00-1d23-44a2-ac14-08e3ab64b81a"
      },
      "source": [
        "#Number of males whose salary is above average\n",
        "#We got the people with pay above mean pay \n",
        "#We used the ampersand sign to also get people whose gender is male\n",
        "#We used length to count the cells\n",
        "len(df[(df.Pay > df.Pay.mean()) & (df.Gender=='m')])"
      ],
      "execution_count": null,
      "outputs": [
        {
          "output_type": "execute_result",
          "data": {
            "text/plain": [
              "38667"
            ]
          },
          "metadata": {
            "tags": []
          },
          "execution_count": 175
        }
      ]
    },
    {
      "cell_type": "markdown",
      "metadata": {
        "id": "pZxAEWE-8y8f"
      },
      "source": [
        "###Females with salary above average"
      ]
    },
    {
      "cell_type": "code",
      "metadata": {
        "colab": {
          "base_uri": "https://localhost:8080/"
        },
        "id": "Iblpj_8EZHYV",
        "outputId": "ee80be36-4111-44c9-f8da-f8955c948aae"
      },
      "source": [
        "#Number of females whose salary is above average\n",
        "#We got the people with pay above mean pay \n",
        "#We used the ampersand sign to also get people whose gender is female\n",
        "#We used length to count the cells\n",
        "len(df[(df.Pay > df.Pay.mean()) & (df.Gender=='f')])\n"
      ],
      "execution_count": null,
      "outputs": [
        {
          "output_type": "execute_result",
          "data": {
            "text/plain": [
              "22438"
            ]
          },
          "metadata": {
            "tags": []
          },
          "execution_count": 176
        }
      ]
    },
    {
      "cell_type": "markdown",
      "metadata": {
        "id": "ivn4ggFwimSH"
      },
      "source": [
        "## **Conclusion and Recommendations**"
      ]
    },
    {
      "cell_type": "markdown",
      "metadata": {
        "id": "unb4gyRMip-m"
      },
      "source": [
        "## **Conclusion**\n",
        "\n",
        "From our analysis , we were able to deduce that the average pay per year for males is higher compared to the pay for females. In addition, the highest earning job in San Francisco  is that of the chief investment officer(CIO). \n",
        "\n",
        "The most popular job is that of the transit operator which is mostly populated by the male. The most popular female jobs  in San Francisco in the period of study worked as special nurses and registered nurses. \n",
        "\n",
        "The average pay for females was 86475.67USD and for males was 104254.64USD whereas the average pay for all was 93,707. This means that men earn 10547.87 more from mean pay and females earn 7231.09 less from the males. This means that females earn 82.94% of what men earn.\n",
        "\n",
        "Among those earning above average pay, 52.98% were male and 30.74% were female whereas the rest were not specified their gender. \n",
        "\n"
      ]
    },
    {
      "cell_type": "markdown",
      "metadata": {
        "id": "Zsp2cSQYjvzC"
      },
      "source": [
        "### **Recommendations**\n",
        "\n",
        "We recommend that since women earn 82% of what men earn, and only 30% of women earn above average pay, more study can be done to identify the reasons why women earn less than men in general."
      ]
    }
  ]
}